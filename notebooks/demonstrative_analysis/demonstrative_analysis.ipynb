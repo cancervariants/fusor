{
 "cells": [
  {
   "cell_type": "markdown",
   "id": "c5bf5e49",
   "metadata": {},
   "source": [
    "# FUSOR Demonstrative Analysis\n",
    "This notebook contains a demonstrative analysis of the FUSOR package, showing how fusion events detected from patient samples at Nationwide Children's Hospital's Institute for Genomic Medicine (IGM) can be matched to the CIViC and Molecular Oncology Almanac (MOA) databases."
   ]
  },
  {
   "cell_type": "markdown",
   "id": "41dfcc6f",
   "metadata": {},
   "source": [
    "The cells below are run to set environment variables and load in FUSOR."
   ]
  },
  {
   "cell_type": "code",
   "execution_count": 1,
   "id": "0be7046d",
   "metadata": {},
   "outputs": [],
   "source": [
    "from os import environ\n",
    "import logging\n",
    "from pathlib import Path\n",
    "from tqdm import tqdm\n",
    "\n",
    "# These are the configurations for the UTA and SeqRepo databases. These should\n",
    "# be adjusted by the user based on the locations where these databases exist.\n",
    "environ[\"UTA_DB_URL\"] = \"postgresql://anonymous@localhost:5432/uta/uta_20241220\"\n",
    "environ[\"SEQREPO_ROOT_DIR\"] = \"/usr/local/share/seqrepo/2024-12-20\"\n",
    "\n",
    "# Cool-Seq-Tool will log warning messages for reasons including having breakpoints\n",
    "# that occur outside of the transcript boundaries and having gene partners \n",
    "# that do not have MANE select transcripts. We are silencing these warning \n",
    "# messages in the output, as FUSOR objects can still be generated for these\n",
    "# cases.\n",
    "logging.getLogger(\"cool_seq_tool\").setLevel(logging.ERROR)"
   ]
  },
  {
   "cell_type": "code",
   "execution_count": 2,
   "id": "62b42178",
   "metadata": {},
   "outputs": [
    {
     "name": "stdout",
     "output_type": "stream",
     "text": [
      "***Using Gene Database Endpoint: http://localhost:8000***\n"
     ]
    }
   ],
   "source": [
    "from fusor.fusor import FUSOR\n",
    "\n",
    "fusor = FUSOR()"
   ]
  },
  {
   "cell_type": "markdown",
   "id": "72f94195",
   "metadata": {},
   "source": [
    "## Prepare and Load `CategoricalFusion` Data"
   ]
  },
  {
   "cell_type": "markdown",
   "id": "9701d196",
   "metadata": {},
   "source": [
    "### CIViC"
   ]
  },
  {
   "cell_type": "markdown",
   "id": "3b110eba",
   "metadata": {},
   "source": [
    "The cell below loads from the saved CIViC cache (from 9/22/25) and creates a list of `CategoricalFusion` objects. We are filtering for `accepted` and `submitted` variants from CIViC. "
   ]
  },
  {
   "cell_type": "code",
   "execution_count": 3,
   "id": "371aeb6e",
   "metadata": {},
   "outputs": [
    {
     "name": "stderr",
     "output_type": "stream",
     "text": [
      "ERROR:fusor.harvester:Cannot translate fusion: FGFR3(entrez:2261)::v due to the following reason: Translation cannot proceed as GRCh37 transcripts and exons lacks genomic breakpoints\n",
      "Traceback (most recent call last):\n",
      "  File \"/Users/rsjxa001/fusion_project/fusor/src/fusor/harvester.py\", line 412, in load_records\n",
      "    cat_fusion = await self.translator.translate(civic=fusion)\n",
      "                 ^^^^^^^^^^^^^^^^^^^^^^^^^^^^^^^^^^^^^^^^^^^^^\n",
      "  File \"/Users/rsjxa001/fusion_project/fusor/src/fusor/translator.py\", line 993, in translate\n",
      "    raise ValueError(msg)\n",
      "ValueError: Translation cannot proceed as GRCh37 transcripts and exons lacks genomic breakpoints\n",
      "ERROR:fusor.harvester:Cannot translate fusion: TCF3(entrez:6929)::PBX1(entrez:5087) due to the following reason: Translation cannot proceed as GRCh37 transcripts and exons lacks genomic breakpoints\n",
      "Traceback (most recent call last):\n",
      "  File \"/Users/rsjxa001/fusion_project/fusor/src/fusor/harvester.py\", line 412, in load_records\n",
      "    cat_fusion = await self.translator.translate(civic=fusion)\n",
      "                 ^^^^^^^^^^^^^^^^^^^^^^^^^^^^^^^^^^^^^^^^^^^^^\n",
      "  File \"/Users/rsjxa001/fusion_project/fusor/src/fusor/translator.py\", line 993, in translate\n",
      "    raise ValueError(msg)\n",
      "ValueError: Translation cannot proceed as GRCh37 transcripts and exons lacks genomic breakpoints\n",
      "ERROR:fusor.harvester:Cannot translate fusion: ENST00000302418.5(KIF5B):e.24::ENST00000397752.3(MET):e.15 due to the following reason: Translation cannot proceed as GRCh37 transcripts and exons lacks genomic breakpoints\n",
      "Traceback (most recent call last):\n",
      "  File \"/Users/rsjxa001/fusion_project/fusor/src/fusor/harvester.py\", line 412, in load_records\n",
      "    cat_fusion = await self.translator.translate(civic=fusion)\n",
      "                 ^^^^^^^^^^^^^^^^^^^^^^^^^^^^^^^^^^^^^^^^^^^^^\n",
      "  File \"/Users/rsjxa001/fusion_project/fusor/src/fusor/translator.py\", line 993, in translate\n",
      "    raise ValueError(msg)\n",
      "ValueError: Translation cannot proceed as GRCh37 transcripts and exons lacks genomic breakpoints\n",
      "ERROR:fusor.harvester:Cannot translate fusion: ENST00000275493.7(EGFR):e.24::ENST00000267868.8(RAD51):e.4 due to the following reason: Translation cannot proceed as GRCh37 transcripts and exons lacks genomic breakpoints\n",
      "Traceback (most recent call last):\n",
      "  File \"/Users/rsjxa001/fusion_project/fusor/src/fusor/harvester.py\", line 412, in load_records\n",
      "    cat_fusion = await self.translator.translate(civic=fusion)\n",
      "                 ^^^^^^^^^^^^^^^^^^^^^^^^^^^^^^^^^^^^^^^^^^^^^\n",
      "  File \"/Users/rsjxa001/fusion_project/fusor/src/fusor/translator.py\", line 993, in translate\n",
      "    raise ValueError(msg)\n",
      "ValueError: Translation cannot proceed as GRCh37 transcripts and exons lacks genomic breakpoints\n",
      "WARNING:fusor.harvester:5 fusion(s) were dropped during translation\n"
     ]
    }
   ],
   "source": [
    "from fusor.harvester import CIVICHarvester\n",
    "\n",
    "harvester = CIVICHarvester(fusor=fusor, local_cache_path=\"data/caches/civic_cache_20250922.pkl\", include_status=[\"accepted\", \"submitted\"])\n",
    "civic_fusions = await harvester.load_records()"
   ]
  },
  {
   "cell_type": "markdown",
   "id": "6d02544a",
   "metadata": {},
   "source": [
    "There are 5 fusions from CIViC that fail to translate:\n",
    "- 1 fusion fails to translate as the 3' partner is said to be SSX4 in CIViC when it is likely SSX4B\n",
    "- 4 fusions fail to translate as they are missing genomic coordinates in CIViC, which is required for fusions described using GRCh37 transcripts"
   ]
  },
  {
   "cell_type": "markdown",
   "id": "e0464c26",
   "metadata": {},
   "source": [
    "### MOA"
   ]
  },
  {
   "cell_type": "markdown",
   "id": "103ca1a1",
   "metadata": {},
   "source": [
    "The cell below loads from the saved MOA cache (9/4/25) and creates a list of `CategoricalFusion` objects."
   ]
  },
  {
   "cell_type": "code",
   "execution_count": 4,
   "id": "81d9d227",
   "metadata": {},
   "outputs": [],
   "source": [
    "from fusor.harvester import MOAHarvester\n",
    "\n",
    "harvester = MOAHarvester(fusor=fusor, cache_dir=Path(\"data/caches\"), use_local=True)\n",
    "moa_fusions = harvester.load_records()"
   ]
  },
  {
   "cell_type": "markdown",
   "id": "5e9b079a",
   "metadata": {},
   "source": [
    "## Translate `AssayedFusion` objects from EnFusion files"
   ]
  },
  {
   "cell_type": "markdown",
   "id": "57028351",
   "metadata": {},
   "source": [
    "The cell below can be run to generate a list of translated `AssayedFusion` objects from a subset of EnFusion output from 17 patient samples at IGM. This cell takes around 5.5 minutes to run. The fusion events were detected at a sequencing depth of 200 million reads, and were returned if they were detected by three or more of the following fusion callers: FusionMap, FusionCatcher, JAFFA, STAR-Fusion, CICERO, Arriba."
   ]
  },
  {
   "cell_type": "code",
   "execution_count": 5,
   "id": "d5465a51",
   "metadata": {},
   "outputs": [
    {
     "name": "stderr",
     "output_type": "stream",
     "text": [
      "100%|██████████| 17/17 [06:12<00:00, 21.91s/it]\n"
     ]
    }
   ],
   "source": [
    "from fusor.harvester import EnFusionHarvester\n",
    "from cool_seq_tool.schemas import Assembly\n",
    "\n",
    "harvester = EnFusionHarvester(fusor=fusor, assembly=Assembly.GRCH38)\n",
    "assayed_fusions_enfusion = []\n",
    "patient_ids = []\n",
    "files = [patient_file.name for patient_file in Path(\"data/fusion-test-data\").iterdir() if patient_file.is_file() and patient_file.suffix == \".tsv\"]\n",
    "\n",
    "for file in tqdm(files):\n",
    "    fusions = await harvester.load_records(fusion_path=Path(f\"data/fusion-test-data/{file}\"))\n",
    "    for fusion in fusions:\n",
    "        patient_ids.append(file)\n",
    "    assayed_fusions_enfusion.extend(fusions)"
   ]
  },
  {
   "cell_type": "markdown",
   "id": "0f6d4145",
   "metadata": {},
   "source": [
    "## 1. Use `FusionMatcher` to match patient fusions against CIViC and MOA"
   ]
  },
  {
   "cell_type": "markdown",
   "id": "1a28a036",
   "metadata": {},
   "source": [
    "The cell below can be run to use the `FusionMatcher` module to match the translated EnFusion output, containting patient fusion data, against CIViC and MOA. Matches are prioritized and returned according to predefined [match criteria](https://github.com/cancervariants/fusor/wiki/Fusion-Match-Classes)."
   ]
  },
  {
   "cell_type": "code",
   "execution_count": 6,
   "id": "174fc87d",
   "metadata": {},
   "outputs": [],
   "source": [
    "from fusor.fusion_matching import FusionMatcher\n",
    "\n",
    "fm = FusionMatcher(assayed_fusions=assayed_fusions_enfusion,\n",
    "                   comparator_fusions=civic_fusions + moa_fusions)\n",
    "\n",
    "matches = await fm.match_fusion()"
   ]
  },
  {
   "cell_type": "markdown",
   "id": "c140be66",
   "metadata": {},
   "source": [
    "### Create Patient Variant Dictionary\n",
    "The cell below can be run to create a dictionary containing the returned matching `CategoricalFusion` objects for each patient sample."
   ]
  },
  {
   "cell_type": "code",
   "execution_count": 7,
   "id": "6209f024",
   "metadata": {},
   "outputs": [],
   "source": [
    "from collections import defaultdict\n",
    "\n",
    "matches_ids = []\n",
    "for match, id in zip(matches, patient_ids):\n",
    "    if match:\n",
    "        matches_ids.append((match, id))\n",
    "\n",
    "patient_match_dict = defaultdict(list)\n",
    "\n",
    "for tup in matches_ids:\n",
    "    obj, pid = tup\n",
    "    patient_match_dict[pid].append(tup[0])\n",
    "patient_match_dict = dict(patient_match_dict)"
   ]
  },
  {
   "cell_type": "markdown",
   "id": "5e3d0cc3",
   "metadata": {},
   "source": [
    "## 2. Fusion Match Characterization\n",
    "The cells below analyze the results of the matching analysis, describing the types of `CategoricalFusions` matches that are returned given an `AssayedFusion` query and the types of evidence that are associated with those matches."
   ]
  },
  {
   "cell_type": "markdown",
   "id": "7e886d92",
   "metadata": {},
   "source": [
    "The helper functions below are used throughout this section:"
   ]
  },
  {
   "cell_type": "code",
   "execution_count": 8,
   "id": "c7a0c1ca",
   "metadata": {},
   "outputs": [],
   "source": [
    "from fusor.models import CategoricalFusion\n",
    "from fusor.fusion_matching import MatchType\n",
    "from collections import Counter\n",
    "\n",
    "def count_match_types(matches: list[tuple[CategoricalFusion, MatchType]]) -> dict:\n",
    "    \"\"\"Count the number of match types across a list of matching output\n",
    "    \n",
    "    :param matches: A list of tuples containing CategoricalFusion and MatchType \n",
    "        objects\n",
    "    :return: A dictionary describing the number of fusions that belong in each \n",
    "        shared fusion match category\"\"\"\n",
    "    element_counts = [match[1].priority // 10 for match in matches]\n",
    "    element_counts = Counter(element_counts)\n",
    "    map = {1: \"exact\", 2:\"shared_genes_exact_one_partner\", 3:\"shared_genes\", \n",
    "           4:\"exact_one_partner\", 5:\"shared_gene_one_partner\"}\n",
    "    return {map[key]: value for key, value in element_counts.items()}"
   ]
  },
  {
   "cell_type": "code",
   "execution_count": 9,
   "id": "8d51b2c4",
   "metadata": {},
   "outputs": [],
   "source": [
    "def count_match_types_patient(match_info: list[list[tuple[CategoricalFusion, MatchType]]]) -> dict[str, int]:\n",
    "    \"\"\"Count the number of match types that occur across a patient sample\n",
    "    \n",
    "    :param match_info: A list of list of tuples containing the match information\n",
    "        for a patient sample\n",
    "    :return: A dictionary describing match information at the patient level\n",
    "    \"\"\"\n",
    "    categories = [\n",
    "        \"exact\",\n",
    "        \"shared_genes_exact_one_partner\",\n",
    "        \"shared_genes\",\n",
    "        \"exact_one_partner\",\n",
    "        \"shared_gene_one_partner\",\n",
    "    ]\n",
    "    total_counts = Counter({cat: 0 for cat in categories})\n",
    "    \n",
    "    for match in match_info:\n",
    "        match_dat = count_match_types(match)\n",
    "        total_counts.update({k: match_dat.get(k, 0) for k in categories})\n",
    "    \n",
    "    return dict(total_counts)"
   ]
  },
  {
   "cell_type": "markdown",
   "id": "40b93c87",
   "metadata": {},
   "source": [
    "### Get highest returned priority match type across patients\n",
    "The cell below reports the highest priority type that is returned for the matching `CategoricalFusions` for each patient sample."
   ]
  },
  {
   "cell_type": "code",
   "execution_count": 10,
   "id": "c51b8150",
   "metadata": {},
   "outputs": [
    {
     "data": {
      "text/plain": [
       "['shared_genes',\n",
       " 'exact',\n",
       " 'shared_genes',\n",
       " 'shared_genes_exact_one_partner',\n",
       " 'exact',\n",
       " 'shared_genes_exact_one_partner',\n",
       " 'exact',\n",
       " 'exact',\n",
       " 'shared_genes',\n",
       " 'exact',\n",
       " 'shared_genes',\n",
       " 'exact_one_partner',\n",
       " 'shared_genes_exact_one_partner',\n",
       " 'shared_genes',\n",
       " 'shared_genes_exact_one_partner',\n",
       " 'exact']"
      ]
     },
     "execution_count": 10,
     "metadata": {},
     "output_type": "execute_result"
    }
   ],
   "source": [
    "highest_priority = []\n",
    "for patient in patient_match_dict:\n",
    "    priority = count_match_types_patient(patient_match_dict[patient])\n",
    "    for key in priority:\n",
    "        if priority[key] > 0:\n",
    "            highest_priority.append(key)\n",
    "            break\n",
    "highest_priority"
   ]
  },
  {
   "cell_type": "markdown",
   "id": "7bcb8ee8",
   "metadata": {},
   "source": [
    "Run the cells below to visualize the highest fusion priority type that is returned for each patient sample."
   ]
  },
  {
   "cell_type": "code",
   "execution_count": 11,
   "id": "c1b154b4",
   "metadata": {},
   "outputs": [],
   "source": [
    "import pandas as pd\n",
    "\n",
    "match_counts = Counter(highest_priority)\n",
    "\n",
    "columns = [\"priority_type\", \"count\"]\n",
    "highest_priority_df = pd.DataFrame(columns=columns)\n",
    "highest_priority_df[\"priority_type\"] = [\"exact\", \"shared_genes_exact_one_partner\",\n",
    "                                        \"shared_genes\",  \"exact_one_partner\",]\n",
    "highest_priority_df[\"count\"] = [match_counts[\"exact\"], \n",
    "                                match_counts[\"shared_genes_exact_one_partner\"],\n",
    "                                match_counts[\"shared_genes\"],\n",
    "                                match_counts[\"exact_one_partner\"]]"
   ]
  },
  {
   "cell_type": "code",
   "execution_count": 12,
   "id": "ab08897d",
   "metadata": {},
   "outputs": [
    {
     "data": {
      "image/png": "[encoded data removed]",
      "text/plain": [
       "<Figure size 800x600 with 1 Axes>"
      ]
     },
     "metadata": {},
     "output_type": "display_data"
    }
   ],
   "source": [
    "import matplotlib.pyplot as plt\n",
    "import seaborn as sns\n",
    "\n",
    "bar_colors = sns.color_palette(\"Set2\")\n",
    "\n",
    "ax = highest_priority_df.plot.bar(x=\"priority_type\", y=\"count\",\n",
    "                                  title=\"Highest Fusion Priority Type for each Patient\",\n",
    "                                  figsize=(8, 6), color=bar_colors, legend=False)\n",
    "plt.xlabel(\"Priority Type\")\n",
    "plt.ylabel(\"Number of Samples\")\n",
    "plt.xticks(rotation=30, ha=\"right\")\n",
    "plt.margins(x=0.05, y=0.1)\n",
    "plt.tight_layout()  \n",
    "plt.show()"
   ]
  },
  {
   "cell_type": "markdown",
   "id": "e7410732",
   "metadata": {},
   "source": [
    "### Compute Match Type Summary Statistics\n",
    "Run the cell below to compute summary statistics describing the types of matches that were returned."
   ]
  },
  {
   "cell_type": "code",
   "execution_count": 13,
   "id": "a2e83479",
   "metadata": {},
   "outputs": [
    {
     "name": "stdout",
     "output_type": "stream",
     "text": [
      "The number of translated fusion across the 17 examined patient files is: 2362\n",
      "The number of patient assayed fusions that had at least one match against CIViC and MOA is: 191\n"
     ]
    },
    {
     "data": {
      "text/plain": [
       "\"The breakdown of returned match types across the testing set is: {'exact': 13, 'shared_genes_exact_one_partner': 8, 'shared_genes': 86, 'exact_one_partner': 47, 'shared_gene_one_partner': 638}\""
      ]
     },
     "execution_count": 13,
     "metadata": {},
     "output_type": "execute_result"
    }
   ],
   "source": [
    "print(f\"The number of translated fusion across the 17 examined patient files is: {len(assayed_fusions_enfusion)}\")\n",
    "print(f\"The number of patient assayed fusions that had at least one match against CIViC and MOA is: {len([match for match in matches if match])}\")\n",
    "\n",
    "# Compute the number of match types across the different patient samples\n",
    "priority_counts = [count_match_types_patient(patient_match_dict[patient]) for patient in patient_match_dict]\n",
    "combined_counts = dict(sum((Counter(d) for d in priority_counts), Counter()))\n",
    "categories = [\n",
    "    \"exact\",\n",
    "    \"shared_genes_exact_one_partner\",\n",
    "    \"shared_genes\",\n",
    "    \"exact_one_partner\",\n",
    "    \"shared_gene_one_partner\",\n",
    "]\n",
    "combined_counts = {cat: combined_counts[cat] for cat in categories}\n",
    "f\"The breakdown of returned match types across the testing set is: {combined_counts}\""
   ]
  },
  {
   "cell_type": "markdown",
   "id": "23512d3a",
   "metadata": {},
   "source": [
    "## 3. Clinical Evidence Comparison\n"
   ]
  },
  {
   "cell_type": "markdown",
   "id": "5f320979",
   "metadata": {},
   "source": [
    "The cells below are used to extract the levels of evidence (e.g. A-E) that are returned for matching `CategoricalFusion` objects from the CIViC knowledgebase."
   ]
  },
  {
   "cell_type": "markdown",
   "id": "5d7be54d",
   "metadata": {},
   "source": [
    "The helper functions below are used throughout this section:"
   ]
  },
  {
   "cell_type": "code",
   "execution_count": 14,
   "id": "0bbfd2d5",
   "metadata": {},
   "outputs": [],
   "source": [
    "from civicpy.civic import MolecularProfile\n",
    "from fusor.models import CategoricalFusion\n",
    "\n",
    "def get_evidence_ratings_per_mp(mp: MolecularProfile) -> dict:\n",
    "    \"\"\"Get a dictionary describing evidence ratings associated with a\n",
    "    MolecularProfile object\n",
    "\n",
    "    :param mp: A MolecularProfile object\n",
    "    :return: A dictionary containing the number of evidence items with a given\n",
    "        rating (A-E)\n",
    "    \"\"\"\n",
    "    ratings = [e.evidence_level for e in mp.evidence_items]\n",
    "    return dict(Counter(ratings))\n",
    "\n",
    "def aggregate_evidence_ratings(dicts: list[dict]) -> dict:\n",
    "    \"\"\"Helper function used to aggreate evidence rating counts\n",
    "    \n",
    "    :param dicts: A list of dictionaries\n",
    "    :return: A dictionary with the aggregate count across the list\n",
    "    \"\"\"\n",
    "    counter = Counter()\n",
    "    for r_dict in dicts:\n",
    "        counter.update(r_dict)\n",
    "    counter = {k: counter.get(k, 0) for k in [\"A\", \"B\", \"C\", \"D\", \"E\"]}\n",
    "    return dict(counter)\n",
    "\n",
    "def aggregate_evidence_ratings_per_fusion(fusion: CategoricalFusion) -> dict:\n",
    "    \"\"\"Get a dictionary containing the number of times a given evidence rating\n",
    "    appears across a list of MolecularProfiles associated with a fusion\n",
    "\n",
    "    :param fusion: A CategoricalFusion object\n",
    "    :return: A dictinonary describing the evidence rating counts across the\n",
    "        fusion\n",
    "    \"\"\"\n",
    "    r_dicts = [get_evidence_ratings_per_mp(mp) for mp in fusion.extensions[0].value]\n",
    "    return aggregate_evidence_ratings(r_dicts)\n",
    "\n",
    "def aggregate_evidence_ratings_per_matching_output(fusions: \n",
    "                                                   list[tuple[CategoricalFusion, MatchType]]) -> dict:\n",
    "    \"\"\"Count number of times evidence ratings appear across a list of matched\n",
    "    CategoricalFusion objects. This is only supported for matched fusions\n",
    "    from CIViC\n",
    "\n",
    "    :param fusions: A list of tuples CategoricalFusion objects and MatchTypes\n",
    "    :return: A dictionary describing the evidence rating counts across the\n",
    "        lists of fusions\n",
    "    \"\"\"\n",
    "    r_dicts = [aggregate_evidence_ratings_per_fusion(fusion[0]) for fusion\n",
    "               in fusions if fusion[0].extensions[0].name == \"civicMolecularProfiles\"]\n",
    "    return aggregate_evidence_ratings(r_dicts)\n",
    "\n",
    "def aggregate_evidence_ratings_per_sample(matches: list[list[tuple[CategoricalFusion, MatchType]]]) -> dict:\n",
    "    \"\"\"Aggregate evidence rating counts at the sample level\n",
    "    \n",
    "    :param matches: A list containing lists of tuples of returned matching \n",
    "        CategoricalFusion objects and their MatchTypes\n",
    "    :return: A dictionary containing the aggregate rating counts at the sample\n",
    "        level\n",
    "    \"\"\"\n",
    "    match_dicts = [aggregate_evidence_ratings_per_matching_output(match) for\n",
    "                   match in matches]\n",
    "    return aggregate_evidence_ratings(match_dicts)"
   ]
  },
  {
   "cell_type": "markdown",
   "id": "c69703b4",
   "metadata": {},
   "source": [
    "### Compute the ratings of returned evidence at the patient level\n",
    "Run the cell below to generate a list of dictionaries describing the returned evidence ratings for each patient sample. This output is limited to returned fusions from CIViC. It is possible for different `MolecularProfile` objects to share the same evidence IDs, so the counts below represent **aggregate** evidence ratings counts."
   ]
  },
  {
   "cell_type": "code",
   "execution_count": 15,
   "id": "49d40691",
   "metadata": {},
   "outputs": [
    {
     "data": {
      "text/plain": [
       "[{'A': 3, 'B': 17, 'C': 4, 'D': 2, 'E': 0},\n",
       " {'A': 0, 'B': 8, 'C': 0, 'D': 1, 'E': 0},\n",
       " {'A': 0, 'B': 0, 'C': 2, 'D': 0, 'E': 0},\n",
       " {'A': 5, 'B': 3, 'C': 23, 'D': 3, 'E': 0},\n",
       " {'A': 80, 'B': 127, 'C': 388, 'D': 226, 'E': 16},\n",
       " {'A': 2, 'B': 10, 'C': 12, 'D': 14, 'E': 0},\n",
       " {'A': 2, 'B': 7, 'C': 12, 'D': 14, 'E': 0},\n",
       " {'A': 63, 'B': 203, 'C': 570, 'D': 294, 'E': 0},\n",
       " {'A': 0, 'B': 17, 'C': 9, 'D': 1, 'E': 0},\n",
       " {'A': 2, 'B': 7, 'C': 13, 'D': 14, 'E': 0},\n",
       " {'A': 0, 'B': 4, 'C': 1, 'D': 3, 'E': 0},\n",
       " {'A': 0, 'B': 21, 'C': 7, 'D': 7, 'E': 0},\n",
       " {'A': 1, 'B': 18, 'C': 10, 'D': 1, 'E': 0},\n",
       " {'A': 1, 'B': 5, 'C': 3, 'D': 2, 'E': 0},\n",
       " {'A': 19, 'B': 50, 'C': 255, 'D': 231, 'E': 0},\n",
       " {'A': 32, 'B': 161, 'C': 462, 'D': 277, 'E': 0}]"
      ]
     },
     "execution_count": 15,
     "metadata": {},
     "output_type": "execute_result"
    }
   ],
   "source": [
    "[aggregate_evidence_ratings_per_sample(patient_match_dict[sample]) for sample in patient_match_dict]"
   ]
  }
 ],
 "metadata": {
  "kernelspec": {
   "display_name": "fusor",
   "language": "python",
   "name": "python3"
  },
  "language_info": {
   "codemirror_mode": {
    "name": "ipython",
    "version": 3
   },
   "file_extension": ".py",
   "mimetype": "text/x-python",
   "name": "python",
   "nbconvert_exporter": "python",
   "pygments_lexer": "ipython3",
   "version": "3.13.5"
  }
 },
 "nbformat": 4,
 "nbformat_minor": 5
}
