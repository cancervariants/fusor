{
 "cells": [
  {
   "cell_type": "markdown",
   "id": "c5bf5e49",
   "metadata": {},
   "source": [
    "# FUSOR Demonstrative Analysis\n",
    "This notebook contains a demonstrative analysis of the FUSOR package, showing how fusion events detected from patient samples at Nationwide Children's Hospital's Institute for Genomic Medicine (IGM) can be matched to the CIViC and Molecular Oncology Almanac (MOA) databases."
   ]
  },
  {
   "cell_type": "markdown",
   "id": "41dfcc6f",
   "metadata": {},
   "source": [
    "The cells below are run to set environment variables and load in FUSOR."
   ]
  },
  {
   "cell_type": "code",
   "execution_count": 1,
   "id": "0be7046d",
   "metadata": {},
   "outputs": [],
   "source": [
    "from os import environ\n",
    "import logging\n",
    "from pathlib import Path\n",
    "from tqdm import tqdm\n",
    "\n",
    "# These are the configurations for the UTA and SeqRepo databases. These should\n",
    "# be adjusted by the user based on the locations where these databases exist.\n",
    "environ[\"UTA_DB_URL\"] = \"postgresql://anonymous@localhost:5432/uta/uta_20241220\"\n",
    "environ[\"SEQREPO_ROOT_DIR\"] = \"/usr/local/share/seqrepo/2024-12-20\"\n",
    "\n",
    "logging.getLogger(\"cool_seq_tool\").setLevel(logging.ERROR)"
   ]
  },
  {
   "cell_type": "code",
   "execution_count": 2,
   "id": "62b42178",
   "metadata": {},
   "outputs": [
    {
     "name": "stdout",
     "output_type": "stream",
     "text": [
      "***Using Gene Database Endpoint: http://localhost:8000***\n"
     ]
    }
   ],
   "source": [
    "from fusor.fusor import FUSOR\n",
    "\n",
    "fusor = FUSOR()"
   ]
  },
  {
   "cell_type": "markdown",
   "id": "72f94195",
   "metadata": {},
   "source": [
    "## Prepare and Load `CategoricalFusion` Data"
   ]
  },
  {
   "cell_type": "markdown",
   "id": "9701d196",
   "metadata": {},
   "source": [
    "### CIViC"
   ]
  },
  {
   "cell_type": "markdown",
   "id": "3b110eba",
   "metadata": {},
   "source": [
    "The cell below loads from the saved CIViC cache (from 9/22/25) and creates a list of `CategoricalFusion` objects. We are filtering for `accepted` and `submitted` variants from CIViC."
   ]
  },
  {
   "cell_type": "code",
   "execution_count": 3,
   "id": "371aeb6e",
   "metadata": {},
   "outputs": [
    {
     "name": "stderr",
     "output_type": "stream",
     "text": [
      "ERROR:fusor.harvester:Cannot translate fusion: FGFR3(entrez:2261)::v due to the following reason: Translation cannot proceed as GRCh37 transcripts and exons lacks genomic breakpoints\n",
      "Traceback (most recent call last):\n",
      "  File \"/Users/rsjxa001/fusion_project/fusor/src/fusor/harvester.py\", line 412, in load_records\n",
      "    cat_fusion = await self.translator.translate(civic=fusion)\n",
      "                 ^^^^^^^^^^^^^^^^^^^^^^^^^^^^^^^^^^^^^^^^^^^^^\n",
      "  File \"/Users/rsjxa001/fusion_project/fusor/src/fusor/translator.py\", line 984, in translate\n",
      "    raise ValueError(msg)\n",
      "ValueError: Translation cannot proceed as GRCh37 transcripts and exons lacks genomic breakpoints\n",
      "ERROR:fusor.harvester:Cannot translate fusion: TCF3(entrez:6929)::PBX1(entrez:5087) due to the following reason: Translation cannot proceed as GRCh37 transcripts and exons lacks genomic breakpoints\n",
      "Traceback (most recent call last):\n",
      "  File \"/Users/rsjxa001/fusion_project/fusor/src/fusor/harvester.py\", line 412, in load_records\n",
      "    cat_fusion = await self.translator.translate(civic=fusion)\n",
      "                 ^^^^^^^^^^^^^^^^^^^^^^^^^^^^^^^^^^^^^^^^^^^^^\n",
      "  File \"/Users/rsjxa001/fusion_project/fusor/src/fusor/translator.py\", line 984, in translate\n",
      "    raise ValueError(msg)\n",
      "ValueError: Translation cannot proceed as GRCh37 transcripts and exons lacks genomic breakpoints\n",
      "ERROR:fusor.harvester:Cannot translate fusion: ENST00000302418.5(KIF5B):e.24::ENST00000397752.3(MET):e.15 due to the following reason: Translation cannot proceed as GRCh37 transcripts and exons lacks genomic breakpoints\n",
      "Traceback (most recent call last):\n",
      "  File \"/Users/rsjxa001/fusion_project/fusor/src/fusor/harvester.py\", line 412, in load_records\n",
      "    cat_fusion = await self.translator.translate(civic=fusion)\n",
      "                 ^^^^^^^^^^^^^^^^^^^^^^^^^^^^^^^^^^^^^^^^^^^^^\n",
      "  File \"/Users/rsjxa001/fusion_project/fusor/src/fusor/translator.py\", line 984, in translate\n",
      "    raise ValueError(msg)\n",
      "ValueError: Translation cannot proceed as GRCh37 transcripts and exons lacks genomic breakpoints\n",
      "ERROR:fusor.harvester:Cannot translate fusion: ENST00000275493.7(EGFR):e.24::ENST00000267868.8(RAD51):e.4 due to the following reason: Translation cannot proceed as GRCh37 transcripts and exons lacks genomic breakpoints\n",
      "Traceback (most recent call last):\n",
      "  File \"/Users/rsjxa001/fusion_project/fusor/src/fusor/harvester.py\", line 412, in load_records\n",
      "    cat_fusion = await self.translator.translate(civic=fusion)\n",
      "                 ^^^^^^^^^^^^^^^^^^^^^^^^^^^^^^^^^^^^^^^^^^^^^\n",
      "  File \"/Users/rsjxa001/fusion_project/fusor/src/fusor/translator.py\", line 984, in translate\n",
      "    raise ValueError(msg)\n",
      "ValueError: Translation cannot proceed as GRCh37 transcripts and exons lacks genomic breakpoints\n",
      "WARNING:fusor.harvester:5 fusion(s) were dropped during translation\n"
     ]
    }
   ],
   "source": [
    "from fusor.harvester import CIVICHarvester\n",
    "\n",
    "harvester = CIVICHarvester(fusor=fusor, local_cache_path=\"data/caches/civic_cache_20250922.pkl\", include_status=[\"accepted\", \"submitted\"])\n",
    "civic_fusions = await harvester.load_records()"
   ]
  },
  {
   "cell_type": "markdown",
   "id": "e0464c26",
   "metadata": {},
   "source": [
    "### MOA"
   ]
  },
  {
   "cell_type": "markdown",
   "id": "103ca1a1",
   "metadata": {},
   "source": [
    "The cell below loads from the saved MOA cache (9/4/25) and creates a list of `CategoricalFusion` objects."
   ]
  },
  {
   "cell_type": "code",
   "execution_count": 4,
   "id": "81d9d227",
   "metadata": {},
   "outputs": [],
   "source": [
    "from fusor.harvester import MOAHarvester\n",
    "\n",
    "harvester = MOAHarvester(fusor=fusor, cache_dir=Path(\"data/caches\"), use_local=True)\n",
    "moa_fusions = harvester.load_records()"
   ]
  },
  {
   "cell_type": "markdown",
   "id": "5e9b079a",
   "metadata": {},
   "source": [
    "## Translate `AssayedFusion` objects from EnFusion files"
   ]
  },
  {
   "cell_type": "markdown",
   "id": "57028351",
   "metadata": {},
   "source": [
    "The cell below can be run to generate a list of translated `AssayedFusion` objects from a subset of EnFusion output from 18 samples patients at IGM. This cell takes around 6 minutes to run. The fusion events were detected at a sequencing depth of 200 million reads, and were returned if they were detected by three or more of the following fusion callers: FusionMap, FusionCatcher, JAFFA, STAR-Fusion, CICERO, Arriba."
   ]
  },
  {
   "cell_type": "code",
   "execution_count": 5,
   "id": "d5465a51",
   "metadata": {},
   "outputs": [
    {
     "name": "stderr",
     "output_type": "stream",
     "text": [
      "100%|██████████| 18/18 [06:07<00:00, 20.44s/it]\n"
     ]
    }
   ],
   "source": [
    "from fusor.harvester import EnFusionHarvester\n",
    "from cool_seq_tool.schemas import Assembly\n",
    "\n",
    "harvester = EnFusionHarvester(fusor=fusor, assembly=Assembly.GRCH38)\n",
    "assayed_fusions_enfusion = []\n",
    "patient_ids = []\n",
    "files = [patient_file.name for patient_file in Path(\"data/fusion-test-data\").iterdir() if patient_file.is_file()]\n",
    "\n",
    "for file in tqdm(files):\n",
    "    fusions = await harvester.load_records(fusion_path=Path(f\"data/fusion-test-data/{file}\"))\n",
    "    for fusion in fusions:\n",
    "        patient_ids.append(file)\n",
    "    assayed_fusions_enfusion.extend(fusions)"
   ]
  },
  {
   "cell_type": "markdown",
   "id": "0f6d4145",
   "metadata": {},
   "source": [
    "## 1. Use `FusionMatcher` to match patient fusions against CIViC and MOA"
   ]
  },
  {
   "cell_type": "markdown",
   "id": "1a28a036",
   "metadata": {},
   "source": [
    "The cell below can be run to use the `FusionMatcher` module to match the translated EnFusion output, containting patient fusion data, against CIViC and MOA. Matches are prioritized and returned according to predefined [match criteria](https://github.com/cancervariants/fusor/wiki/Fusion-Match-Classes)."
   ]
  },
  {
   "cell_type": "code",
   "execution_count": 6,
   "id": "174fc87d",
   "metadata": {},
   "outputs": [],
   "source": [
    "from fusor.fusion_matching import FusionMatcher\n",
    "\n",
    "fm = FusionMatcher(assayed_fusions=assayed_fusions_enfusion,\n",
    "                   comparator_fusions=civic_fusions + moa_fusions)\n",
    "\n",
    "matches = await fm.match_fusion()"
   ]
  },
  {
   "cell_type": "markdown",
   "id": "c140be66",
   "metadata": {},
   "source": [
    "### Create Patient Variant Dictionary\n",
    "The cell below can be run to create a dictionary containing the returned matching `CategoricalFusion` objects for each patient sample."
   ]
  },
  {
   "cell_type": "code",
   "execution_count": 7,
   "id": "6209f024",
   "metadata": {},
   "outputs": [],
   "source": [
    "from collections import defaultdict\n",
    "\n",
    "matches_ids = []\n",
    "for match, id in zip(matches, patient_ids):\n",
    "    if match:\n",
    "        matches_ids.append((match, id))\n",
    "\n",
    "patient_match_dict = defaultdict(list)\n",
    "\n",
    "for tup in matches_ids:\n",
    "    obj, pid = tup\n",
    "    patient_match_dict[pid].append(tup[0])\n",
    "patient_match_dict = dict(patient_match_dict)"
   ]
  },
  {
   "cell_type": "markdown",
   "id": "5e3d0cc3",
   "metadata": {},
   "source": [
    "## 2. Fusion Match Characterization\n",
    "The cells below analyze the results of the matching analysis, describing the types of `CategoricalFusions` matches that are returned given an `AssayedFusion` query and the types of evidence that are associated with those matches."
   ]
  },
  {
   "cell_type": "markdown",
   "id": "7e886d92",
   "metadata": {},
   "source": [
    "The helper functions below are used throughout this section:"
   ]
  },
  {
   "cell_type": "code",
   "execution_count": 8,
   "id": "c7a0c1ca",
   "metadata": {},
   "outputs": [],
   "source": [
    "from fusor.models import CategoricalFusion\n",
    "from fusor.fusion_matching import MatchType\n",
    "from collections import Counter\n",
    "\n",
    "def count_match_types(matches: list[tuple[CategoricalFusion, MatchType]]) -> dict:\n",
    "    \"\"\"Count the number of match types across a list of matching output\n",
    "    \n",
    "    :param matches: A list of tuples containing CategoricalFusion and MatchType \n",
    "        objects\n",
    "    :return: A dictionarydescribing the number of fusions that belong in each \n",
    "        shared fusion match category\"\"\"\n",
    "    element_counts = [match[1].priority // 10 for match in matches]\n",
    "    element_counts = Counter(element_counts)\n",
    "    map = {1: \"exact\", 2:\"shared_genes_exact_one_partner\", 3:\"shared_genes\", \n",
    "           4:\"exact_one_partner\", 5:\"shared_gene_one_partner\"}\n",
    "    return {map[key]: value for key, value in element_counts.items()}"
   ]
  },
  {
   "cell_type": "code",
   "execution_count": 9,
   "id": "8d51b2c4",
   "metadata": {},
   "outputs": [],
   "source": [
    "def count_match_types_patient(match_info: list[list[tuple[CategoricalFusion, MatchType]]]) -> dict[str, int]:\n",
    "    \"\"\"Count the number of match types that occur across a patient sample\n",
    "    \n",
    "    :param match_info: A list of list of tuples containing the match information\n",
    "        for a patient sample\n",
    "    :return: A dictionary describing match information at the patient level\n",
    "    \"\"\"\n",
    "    categories = [\n",
    "        \"exact\",\n",
    "        \"shared_genes_exact_one_partner\",\n",
    "        \"shared_genes\",\n",
    "        \"exact_one_partner\",\n",
    "        \"shared_gene_one_partner\",\n",
    "    ]\n",
    "    total_counts = Counter({cat: 0 for cat in categories})\n",
    "    \n",
    "    for match in match_info:\n",
    "        match_dat = count_match_types(match)\n",
    "        total_counts.update({k: match_dat.get(k, 0) for k in categories})\n",
    "    \n",
    "    return dict(total_counts)"
   ]
  },
  {
   "cell_type": "markdown",
   "id": "40b93c87",
   "metadata": {},
   "source": [
    "### Get highest returned priority match type across patients\n",
    "The cell below reports the highest priority type that is returned for the matching `CategoricalFusions` for each patient sample."
   ]
  },
  {
   "cell_type": "code",
   "execution_count": 10,
   "id": "c51b8150",
   "metadata": {},
   "outputs": [
    {
     "data": {
      "text/plain": [
       "['shared_genes',\n",
       " 'exact',\n",
       " 'shared_genes',\n",
       " 'shared_genes_exact_one_partner',\n",
       " 'exact',\n",
       " 'shared_genes_exact_one_partner',\n",
       " 'exact',\n",
       " 'exact',\n",
       " 'exact',\n",
       " 'shared_genes',\n",
       " 'exact',\n",
       " 'shared_genes',\n",
       " 'exact_one_partner',\n",
       " 'shared_genes_exact_one_partner',\n",
       " 'shared_genes',\n",
       " 'shared_genes_exact_one_partner',\n",
       " 'exact']"
      ]
     },
     "execution_count": 10,
     "metadata": {},
     "output_type": "execute_result"
    }
   ],
   "source": [
    "highest_priority = []\n",
    "for patient in patient_match_dict:\n",
    "    priority = count_match_types_patient(patient_match_dict[patient])\n",
    "    for key in priority:\n",
    "        if priority[key] > 0:\n",
    "            highest_priority.append(key)\n",
    "            break\n",
    "highest_priority"
   ]
  },
  {
   "cell_type": "markdown",
   "id": "7bcb8ee8",
   "metadata": {},
   "source": [
    "Run the cells below to visualize the highest fusion priority type that is returned for each patient sample."
   ]
  },
  {
   "cell_type": "code",
   "execution_count": 11,
   "id": "c1b154b4",
   "metadata": {},
   "outputs": [],
   "source": [
    "import pandas as pd\n",
    "\n",
    "columns = [\"priority_type\", \"count\"]\n",
    "highest_priority_df = pd.DataFrame(columns=columns)\n",
    "highest_priority_df[\"priority_type\"] = [\"exact\", \"shared_genes_exact_one_partner\",\n",
    "                                        \"shared_genes\",  \"exact_one_partner\",]\n",
    "highest_priority_df[\"count\"] = [7, 4, 5, 1]"
   ]
  },
  {
   "cell_type": "code",
   "execution_count": 12,
   "id": "ab08897d",
   "metadata": {},
   "outputs": [
    {
     "data": {
      "image/png": "[encoded data removed]",
      "text/plain": [
       "<Figure size 800x600 with 1 Axes>"
      ]
     },
     "metadata": {},
     "output_type": "display_data"
    }
   ],
   "source": [
    "import matplotlib.pyplot as plt\n",
    "import seaborn as sns\n",
    "\n",
    "bar_colors = sns.color_palette(\"Set2\")\n",
    "\n",
    "ax = highest_priority_df.plot.bar(x=\"priority_type\", y=\"count\",\n",
    "                                  title=\"Highest Fusion Priority Type for each Patient\",\n",
    "                                  figsize=(8, 6), color=bar_colors, legend=False)\n",
    "plt.xlabel(\"Priority Type\")\n",
    "plt.ylabel(\"Number of Samples\")\n",
    "plt.xticks(rotation=30, ha=\"right\")\n",
    "plt.margins(x=0.05, y=0.1)\n",
    "plt.tight_layout()  \n",
    "plt.show()"
   ]
  },
  {
   "cell_type": "markdown",
   "id": "e7410732",
   "metadata": {},
   "source": [
    "### Compute Match Type Summary Statistics\n",
    "Run the cell below to compute summary statistics describing the types of matches that were returned."
   ]
  },
  {
   "cell_type": "code",
   "execution_count": 13,
   "id": "a2e83479",
   "metadata": {},
   "outputs": [
    {
     "name": "stdout",
     "output_type": "stream",
     "text": [
      "The number of translated fusion across the 18 examined patient files is: 2388\n",
      "The number of patient assayed fusions that had at least one match against CIViC and MOA is: 207\n"
     ]
    },
    {
     "data": {
      "text/plain": [
       "\"The breakdown of returned match types across the testing set is: {'exact': 21, 'shared_genes_exact_one_partner': 12, 'shared_genes': 91, 'exact_one_partner': 70, 'shared_gene_one_partner': 815}\""
      ]
     },
     "execution_count": 13,
     "metadata": {},
     "output_type": "execute_result"
    }
   ],
   "source": [
    "print(f\"The number of translated fusion across the 18 examined patient files is: {len(assayed_fusions_enfusion)}\")\n",
    "print(f\"The number of patient assayed fusions that had at least one match against CIViC and MOA is: {len([match for match in matches if match])}\")\n",
    "\n",
    "# Compute the number of match types across the different patient samples\n",
    "priority_counts = [count_match_types_patient(patient_match_dict[patient]) for patient in patient_match_dict]\n",
    "combined_counts = dict(sum((Counter(d) for d in priority_counts), Counter()))\n",
    "categories = [\n",
    "    \"exact\",\n",
    "    \"shared_genes_exact_one_partner\",\n",
    "    \"shared_genes\",\n",
    "    \"exact_one_partner\",\n",
    "    \"shared_gene_one_partner\",\n",
    "]\n",
    "combined_counts = {cat: combined_counts[cat] for cat in categories}\n",
    "f\"The breakdown of returned match types across the testing set is: {combined_counts}\""
   ]
  },
  {
   "cell_type": "markdown",
   "id": "23512d3a",
   "metadata": {},
   "source": [
    "## 3. Clinical Evidence Comparison\n"
   ]
  }
 ],
 "metadata": {
  "kernelspec": {
   "display_name": "fusor",
   "language": "python",
   "name": "python3"
  },
  "language_info": {
   "codemirror_mode": {
    "name": "ipython",
    "version": 3
   },
   "file_extension": ".py",
   "mimetype": "text/x-python",
   "name": "python",
   "nbconvert_exporter": "python",
   "pygments_lexer": "ipython3",
   "version": "3.13.5"
  }
 },
 "nbformat": 4,
 "nbformat_minor": 5
}
