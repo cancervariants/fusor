{
 "cells": [
  {
   "cell_type": "markdown",
   "id": "4d8cf445",
   "metadata": {},
   "source": [
    "# GENIE Analysis\n",
    "This analysis highlights challenges in standardizing fusion data from the AACR Project Genie cohort and the results of automated evidence matching"
   ]
  },
  {
   "cell_type": "markdown",
   "id": "0e400b89",
   "metadata": {},
   "source": [
    "The cells below are run to set environment variables and load in FUSOR."
   ]
  },
  {
   "cell_type": "code",
   "execution_count": 1,
   "id": "9ddb2148",
   "metadata": {},
   "outputs": [],
   "source": [
    "from os import environ\n",
    "import logging\n",
    "from pathlib import Path\n",
    "\n",
    "# These are the configurations for the UTA and SeqRepo databases. These should\n",
    "# be adjusted by the user based on the locations where these databases exist.\n",
    "environ[\"UTA_DB_URL\"] = \"postgresql://anonymous@localhost:5432/uta/uta_20241220\"\n",
    "environ[\"SEQREPO_ROOT_DIR\"] = \"/usr/local/share/seqrepo/2024-12-20\"\n",
    "\n",
    "# Cool-Seq-Tool will log warning messages for reasons including having breakpoints\n",
    "# that occur outside of the transcript boundaries and having gene partners \n",
    "# that do not have MANE select transcripts. We are silencing these warning \n",
    "# messages in the output, as FUSOR objects can still be generated for these\n",
    "# cases.\n",
    "logging.getLogger(\"cool_seq_tool\").setLevel(logging.ERROR)"
   ]
  },
  {
   "cell_type": "code",
   "execution_count": 2,
   "id": "a0fb4939",
   "metadata": {},
   "outputs": [
    {
     "name": "stdout",
     "output_type": "stream",
     "text": [
      "***Using Gene Database Endpoint: http://localhost:8000***\n"
     ]
    }
   ],
   "source": [
    "from fusor.fusor import FUSOR\n",
    "\n",
    "fusor = FUSOR()"
   ]
  },
  {
   "cell_type": "code",
   "execution_count": 3,
   "id": "4021fef2",
   "metadata": {},
   "outputs": [],
   "source": [
    "Path(\"data/genie_data\").mkdir(parents=True, exist_ok=True)"
   ]
  },
  {
   "cell_type": "markdown",
   "id": "e7a95e66",
   "metadata": {},
   "source": [
    "Note: This notebook uses `data_sv.txt` from Synapse. You will need to create an account to download data from [here](https://www.synapse.org/Synapse:syn68719441). This notebook expects the `data_sv.txt` file to be in the `data` directory."
   ]
  },
  {
   "cell_type": "markdown",
   "id": "f247dfd2",
   "metadata": {},
   "source": [
    "## 1. Filtering Operations\n",
    "The cells below are used to perform filtering to extract fusion events from the GENIE structural variant data"
   ]
  },
  {
   "cell_type": "code",
   "execution_count": 4,
   "id": "25b35773",
   "metadata": {},
   "outputs": [
    {
     "data": {
      "text/plain": [
       "'The number of rows in the GENIE structural variant file is 54124'"
      ]
     },
     "execution_count": 4,
     "metadata": {},
     "output_type": "execute_result"
    }
   ],
   "source": [
    "import pandas as pd\n",
    "\n",
    "genie_data = pd.read_csv(\"data/data_sv.txt\", sep=\"\\t\", dtype=str)\n",
    "f\"The number of rows in the GENIE structural variant file is {len(genie_data)}\""
   ]
  },
  {
   "cell_type": "markdown",
   "id": "f05a9baf",
   "metadata": {},
   "source": [
    "We want to filter for rows where both `Site1_Hugo_Symbol` and `Site2_Hugo_Symbol` are non-Null values and are different from each other. These conditions help to filter on potential fusion events in the file."
   ]
  },
  {
   "cell_type": "code",
   "execution_count": 5,
   "id": "990e803c",
   "metadata": {},
   "outputs": [
    {
     "data": {
      "text/plain": [
       "'The number of potential fusion events is: 32092'"
      ]
     },
     "execution_count": 5,
     "metadata": {},
     "output_type": "execute_result"
    }
   ],
   "source": [
    "genie_fusions = genie_data[\n",
    "    genie_data[\"Site1_Hugo_Symbol\"].notna() &\n",
    "    genie_data[\"Site2_Hugo_Symbol\"].notna() &\n",
    "    (genie_data[\"Site1_Hugo_Symbol\"] != genie_data[\"Site2_Hugo_Symbol\"])\n",
    "]\n",
    "f\"The number of potential fusion events is: {len(genie_fusions)}\""
   ]
  },
  {
   "cell_type": "markdown",
   "id": "9417ad2c",
   "metadata": {},
   "source": [
    "There are some rows where `INTERGENIC` and `INTRAGENIC` are used as a gene symbol. These do not indicate fusion events, so we want to filter on these as well."
   ]
  },
  {
   "cell_type": "code",
   "execution_count": 6,
   "id": "d0119727",
   "metadata": {},
   "outputs": [
    {
     "data": {
      "text/plain": [
       "'The number of potential fusion events after removing for INTERGENIC and INTRAGENIC entries is: 21894'"
      ]
     },
     "execution_count": 6,
     "metadata": {},
     "output_type": "execute_result"
    }
   ],
   "source": [
    "genie_fusions = genie_fusions[\n",
    "    (~genie_fusions[\"Site1_Hugo_Symbol\"].isin([\"INTERGENIC\", \"INTRAGENIC\"])) &\n",
    "    (~genie_fusions[\"Site2_Hugo_Symbol\"].isin([\"INTERGENIC\", \"INTRAGENIC\"]))\n",
    "]\n",
    "f\"The number of potential fusion events after removing for INTERGENIC and INTRAGENIC entries is: {len(genie_fusions)}\""
   ]
  },
  {
   "cell_type": "markdown",
   "id": "1cbd9c83",
   "metadata": {},
   "source": [
    "List the unique data centers:"
   ]
  },
  {
   "cell_type": "code",
   "execution_count": 7,
   "id": "520f19f2",
   "metadata": {},
   "outputs": [
    {
     "data": {
      "text/plain": [
       "array(['MSK', 'UHN', 'VICC', 'UCSF', 'CHOP', 'DUKE', 'DFCI', 'PROV'],\n",
       "      dtype=object)"
      ]
     },
     "execution_count": 7,
     "metadata": {},
     "output_type": "execute_result"
    }
   ],
   "source": [
    "genie_fusions[\"Center\"].unique()"
   ]
  },
  {
   "cell_type": "markdown",
   "id": "5cdf1a36",
   "metadata": {},
   "source": [
    "The GENIE `data_sv.txt` file is a concatentation of structural variant data from 8 different data centers. We must examine data from each center separately to ensure that correct filtering has occurred."
   ]
  },
  {
   "cell_type": "markdown",
   "id": "5a63af28",
   "metadata": {},
   "source": [
    "## 2. MSK\n",
    "The next cells run analyses to highlight challenges with standardizing fusion data from the MSK center."
   ]
  },
  {
   "cell_type": "markdown",
   "id": "deedf0a6",
   "metadata": {},
   "source": [
    "The cell below defines helper functions that will be used"
   ]
  },
  {
   "cell_type": "code",
   "execution_count": 8,
   "id": "1ad88ac4",
   "metadata": {},
   "outputs": [],
   "source": [
    "def is_ordered_correctly(five_prime_gene: str, three_prime_gene, annot: str) -> bool:\n",
    "    \"\"\"Determine if the fusion partners are oriented correctly for the MSK subset\n",
    "    \n",
    "    :param five_prime_gene: The assumed 5' gene partner, provided in the Site1_Hugo_Symbol column\n",
    "    :param three_prime_gene: The assumed 3' gene partner, provided in the Site2_Hugo_Symbol column\n",
    "    :param annot: The fusion annotation\n",
    "    :return: ``True`` if the orientation is consistent, ``False`` if not\n",
    "    \"\"\"\n",
    "    elements = annot.split(\" \")\n",
    "    five_prime_index = next((i for i, word in enumerate(elements) if word == five_prime_gene), None)\n",
    "    three_prime_index = next((i for i, word in enumerate(elements) if word == three_prime_gene), None)\n",
    "    return bool(five_prime_index < three_prime_index)\n",
    "\n",
    "def both_genes_present(five_prime_gene: str, three_prime_gene, annot: str) -> bool:\n",
    "    \"\"\"Determine if both genes partners are present in the annotation\n",
    "    \n",
    "    :param five_prime_gene: The assumed 5' gene partner, provided in the Site1_Hugo_Symbol column\n",
    "    :param three_prime_gene: The assumed 3' gene partner, provided in the Site2_Hugo_Symbol column\n",
    "    :param annot: The fusion annotation\n",
    "    :return: ``True`` if both partners are present, ``False`` if not\n",
    "    \"\"\"\n",
    "    if pd.isna(annot):\n",
    "        # Return False if the annotation string is not available\n",
    "        return False\n",
    "    elements = annot.split(\" \")\n",
    "    if five_prime_gene in elements and three_prime_gene in elements:\n",
    "        return True\n",
    "    return False\n",
    "\n",
    "def are_breakpoints_correct(five_prime_gene: str, three_prime_gene, \n",
    "                            five_prime_description: str, three_prime_description) -> bool:\n",
    "    \"\"\"Determine if the supplied breakpoints describe the correct partner\n",
    "    \n",
    "    :param five_prime_gene: The assumed 5' gene partner, provided in the Site1_Hugo_Symbol column\n",
    "    :param three_prime_gene: The assumed 3' gene partner, provided in the Site2_Hugo_Symbol column\n",
    "    :param five_prime_description: The 5' gene partner location description, provided in the Site1_Description column\n",
    "    :param three_prime_description: The 3' gene partner location description, provided in the Site2_Description column\n",
    "    \"\"\"\n",
    "    if pd.isna(five_prime_description) and pd.isna(three_prime_description):\n",
    "        # Return True. This corresponds to gene fusion events that were detected by Archer\n",
    "        return True\n",
    "    return bool(five_prime_gene in five_prime_description and three_prime_gene in three_prime_description)"
   ]
  },
  {
   "cell_type": "code",
   "execution_count": 9,
   "id": "ace478b7",
   "metadata": {},
   "outputs": [
    {
     "data": {
      "text/plain": [
       "'The number of filtered fusions from MSK is: 9315'"
      ]
     },
     "execution_count": 9,
     "metadata": {},
     "output_type": "execute_result"
    }
   ],
   "source": [
    "msk_data = genie_fusions[genie_fusions[\"Center\"] == \"MSK\"]\n",
    "f\"The number of filtered fusions from MSK is: {len(msk_data)}\""
   ]
  },
  {
   "cell_type": "markdown",
   "id": "9048ff71",
   "metadata": {},
   "source": [
    "Select rows where both gene partners appear in the annotation string"
   ]
  },
  {
   "cell_type": "code",
   "execution_count": 10,
   "id": "91dc8ca3",
   "metadata": {},
   "outputs": [
    {
     "data": {
      "text/plain": [
       "'The number of filtered fusions from MSK is: 8348'"
      ]
     },
     "execution_count": 10,
     "metadata": {},
     "output_type": "execute_result"
    }
   ],
   "source": [
    "msk_data = msk_data[\n",
    "    msk_data.apply(\n",
    "        lambda row: both_genes_present(\n",
    "            row[\"Site1_Hugo_Symbol\"],\n",
    "            row[\"Site2_Hugo_Symbol\"],\n",
    "            row[\"Annotation\"]\n",
    "        ),\n",
    "        axis=1\n",
    "    )\n",
    "]\n",
    "f\"The number of filtered fusions from MSK is: {len(msk_data)}\""
   ]
  },
  {
   "cell_type": "markdown",
   "id": "259debc7",
   "metadata": {},
   "source": [
    "There are some rows where the 5' and 3' partners appear to be out of order when examining the annotation string. We want to filter to include rows where we believe the partners to be in order."
   ]
  },
  {
   "cell_type": "code",
   "execution_count": 11,
   "id": "d36a6658",
   "metadata": {},
   "outputs": [
    {
     "data": {
      "text/plain": [
       "'The number of filtered fusions from MSK is: 7268'"
      ]
     },
     "execution_count": 11,
     "metadata": {},
     "output_type": "execute_result"
    }
   ],
   "source": [
    "msk_data = msk_data[\n",
    "    msk_data.apply(\n",
    "        lambda row: is_ordered_correctly(\n",
    "            row[\"Site1_Hugo_Symbol\"],\n",
    "            row[\"Site2_Hugo_Symbol\"],\n",
    "            row[\"Annotation\"]\n",
    "        ),\n",
    "        axis=1\n",
    "    )\n",
    "]\n",
    "f\"The number of filtered fusions from MSK is: {len(msk_data)}\""
   ]
  },
  {
   "cell_type": "markdown",
   "id": "1660f9d2",
   "metadata": {},
   "source": [
    "There are some rows where the provided genomic breakpoints appear out of order, describing the wrong partner. We want to filter to include rows where we believe the correct genomic breakpoints are provided."
   ]
  },
  {
   "cell_type": "code",
   "execution_count": 12,
   "id": "cb809396",
   "metadata": {},
   "outputs": [
    {
     "data": {
      "text/plain": [
       "'The number of filtered fusions from MSK is: 4258'"
      ]
     },
     "execution_count": 12,
     "metadata": {},
     "output_type": "execute_result"
    }
   ],
   "source": [
    "msk_data = msk_data[\n",
    "    msk_data.apply(\n",
    "        lambda row: are_breakpoints_correct(\n",
    "            row[\"Site1_Hugo_Symbol\"],\n",
    "            row[\"Site2_Hugo_Symbol\"],\n",
    "            row[\"Site1_Description\"],\n",
    "            row[\"Site2_Description\"],\n",
    "        ),\n",
    "        axis=1\n",
    "    )\n",
    "]\n",
    "f\"The number of filtered fusions from MSK is: {len(msk_data)}\""
   ]
  },
  {
   "cell_type": "code",
   "execution_count": 13,
   "id": "97ff9043",
   "metadata": {},
   "outputs": [],
   "source": [
    "msk_data.to_csv(\"data/genie_data/msk_data.csv\", sep=\"\\t\", index=False)"
   ]
  },
  {
   "cell_type": "markdown",
   "id": "24bb3355",
   "metadata": {},
   "source": [
    "### Standardize using GENIE translator\n",
    "The cell below attempts to standardize the 4,258 filtered fusions from MSK"
   ]
  },
  {
   "cell_type": "code",
   "execution_count": 14,
   "id": "0af85774",
   "metadata": {},
   "outputs": [],
   "source": [
    "from fusor.harvester import GenieHarvester\n",
    "from cool_seq_tool.schemas import Assembly\n",
    "\n",
    "harvester = GenieHarvester(fusor=fusor, assembly=Assembly.GRCH37)\n",
    "msk_fusions = await harvester.load_records(fusion_path=Path(\"data/genie_data/msk_data.csv\"))"
   ]
  },
  {
   "cell_type": "markdown",
   "id": "a43982bb",
   "metadata": {},
   "source": [
    "## 3. UHN\n",
    "The next cells standardizes data from the UHN center. This subset has consistent strcture, so no additional filtering is required"
   ]
  },
  {
   "cell_type": "code",
   "execution_count": 15,
   "id": "0658324c",
   "metadata": {},
   "outputs": [
    {
     "data": {
      "text/plain": [
       "'The number of filtered fusions from MSK is: 92'"
      ]
     },
     "execution_count": 15,
     "metadata": {},
     "output_type": "execute_result"
    }
   ],
   "source": [
    "uhn_data = genie_fusions[genie_fusions[\"Center\"] == \"UHN\"]\n",
    "f\"The number of filtered fusions from MSK is: {len(uhn_data)}\""
   ]
  },
  {
   "cell_type": "code",
   "execution_count": 16,
   "id": "3d2129f0",
   "metadata": {},
   "outputs": [],
   "source": [
    "uhn_data.to_csv(\"data/genie_data/uhn_data.csv\", sep=\"\\t\", index=False)"
   ]
  },
  {
   "cell_type": "markdown",
   "id": "cb1536b4",
   "metadata": {},
   "source": [
    "### Standardize using GENIE translator\n",
    "The cell below attempts to standardize the 92 filtered fusions from UHN"
   ]
  },
  {
   "cell_type": "code",
   "execution_count": 17,
   "id": "a2e5d99c",
   "metadata": {},
   "outputs": [],
   "source": [
    "uhn_fusions = await harvester.load_records(fusion_path=Path(\"data/genie_data/uhn_data.csv\"))"
   ]
  },
  {
   "cell_type": "markdown",
   "id": "b6c7ede7",
   "metadata": {},
   "source": [
    "## 4. VICC\n",
    "The next cells standardizes data from the VICC center"
   ]
  },
  {
   "cell_type": "code",
   "execution_count": 18,
   "id": "1a86a722",
   "metadata": {},
   "outputs": [
    {
     "data": {
      "text/plain": [
       "'The number of filtered fusions from VICC is: 450'"
      ]
     },
     "execution_count": 18,
     "metadata": {},
     "output_type": "execute_result"
    }
   ],
   "source": [
    "vicc_data = genie_fusions[genie_fusions[\"Center\"] == \"VICC\"]\n",
    "f\"The number of filtered fusions from VICC is: {len(vicc_data)}\""
   ]
  },
  {
   "cell_type": "markdown",
   "id": "01105ac8",
   "metadata": {},
   "source": [
    "The VICC data includes rearrangements, which appear to be distinct from fusions. We want to only include fusions, so we will filter on the `Event_Info` field"
   ]
  },
  {
   "cell_type": "code",
   "execution_count": 19,
   "id": "9f92b0b1",
   "metadata": {},
   "outputs": [
    {
     "data": {
      "text/plain": [
       "'The number of filtered fusions from VICC is: 226'"
      ]
     },
     "execution_count": 19,
     "metadata": {},
     "output_type": "execute_result"
    }
   ],
   "source": [
    "vicc_data = vicc_data[~vicc_data[\"Event_Info\"].str.contains(\"truncation|intragenic|rearrangement\", case=False, na=False)]\n",
    "f\"The number of filtered fusions from VICC is: {len(vicc_data)}\""
   ]
  },
  {
   "cell_type": "code",
   "execution_count": 20,
   "id": "1801a06c",
   "metadata": {},
   "outputs": [],
   "source": [
    "vicc_data.to_csv(\"data/genie_data/vicc_data.csv\", sep=\"\\t\", index=False)"
   ]
  },
  {
   "cell_type": "markdown",
   "id": "4588a992",
   "metadata": {},
   "source": [
    "### Standardize using GENIE translator\n",
    "The cell below attempts to standardize the 226 filtered fusions from VICC"
   ]
  },
  {
   "cell_type": "code",
   "execution_count": 21,
   "id": "5866e340",
   "metadata": {},
   "outputs": [],
   "source": [
    "vicc_fusions = await harvester.load_records(fusion_path=Path(\"data/genie_data/vicc_data.csv\"))"
   ]
  },
  {
   "cell_type": "markdown",
   "id": "a61ca650",
   "metadata": {},
   "source": [
    "## 5. UCSF\n",
    "The next cells standardizes data from the UCSF center"
   ]
  },
  {
   "cell_type": "code",
   "execution_count": 22,
   "id": "bcf4d116",
   "metadata": {},
   "outputs": [
    {
     "data": {
      "text/plain": [
       "'The number of filtered fusions from UCSF is: 1466'"
      ]
     },
     "execution_count": 22,
     "metadata": {},
     "output_type": "execute_result"
    }
   ],
   "source": [
    "ucsf_data = genie_fusions[genie_fusions[\"Center\"] == \"UCSF\"]\n",
    "f\"The number of filtered fusions from UCSF is: {len(ucsf_data)}\""
   ]
  },
  {
   "cell_type": "markdown",
   "id": "dfd76e33",
   "metadata": {},
   "source": [
    "Filter to only include fusions. Some non-fusion events, such as rearrangements, may not have passed the initial filters."
   ]
  },
  {
   "cell_type": "code",
   "execution_count": 23,
   "id": "30332fca",
   "metadata": {},
   "outputs": [
    {
     "data": {
      "text/plain": [
       "'The number of filtered fusions from UCSF is: 1419'"
      ]
     },
     "execution_count": 23,
     "metadata": {},
     "output_type": "execute_result"
    }
   ],
   "source": [
    "ucsf_data = ucsf_data[ucsf_data[\"Event_Info\"].str.contains(\"fusion\", case=False, na=False)]\n",
    "f\"The number of filtered fusions from UCSF is: {len(ucsf_data)}\""
   ]
  },
  {
   "cell_type": "code",
   "execution_count": 24,
   "id": "5f453c1d",
   "metadata": {},
   "outputs": [],
   "source": [
    "ucsf_data.to_csv(\"data/genie_data/ucsf_data.csv\", sep=\"\\t\", index=False)"
   ]
  },
  {
   "cell_type": "markdown",
   "id": "f95fd7a3",
   "metadata": {},
   "source": [
    "### Standardize using GENIE translator\n",
    "The cell below attempts to standardize the 1419 filtered fusions from UCSF"
   ]
  },
  {
   "cell_type": "code",
   "execution_count": 25,
   "id": "34a45f7c",
   "metadata": {},
   "outputs": [],
   "source": [
    "ucsf_fusions = await harvester.load_records(fusion_path=Path(\"data/genie_data/ucsf_data.csv\"))"
   ]
  },
  {
   "cell_type": "markdown",
   "id": "8fb18fe3",
   "metadata": {},
   "source": [
    "## 6. CHOP\n",
    "The following cells attempt to standardize data from the CHOP center"
   ]
  },
  {
   "cell_type": "code",
   "execution_count": 26,
   "id": "68df0a95",
   "metadata": {},
   "outputs": [
    {
     "data": {
      "text/plain": [
       "'The number of filtered fusions from CHOP is: 454'"
      ]
     },
     "execution_count": 26,
     "metadata": {},
     "output_type": "execute_result"
    }
   ],
   "source": [
    "chop_data = genie_fusions[genie_fusions[\"Center\"] == \"CHOP\"]\n",
    "f\"The number of filtered fusions from CHOP is: {len(chop_data)}\""
   ]
  },
  {
   "cell_type": "markdown",
   "id": "5f1228d5",
   "metadata": {},
   "source": [
    "All data from CHOP describe gene fusion events, so no additional filtering is needed. We can move straight to standardization with FUSOR"
   ]
  },
  {
   "cell_type": "code",
   "execution_count": 27,
   "id": "5eead0f1",
   "metadata": {},
   "outputs": [],
   "source": [
    "chop_data.to_csv(\"data/genie_data/chop_data.csv\", sep=\"\\t\", index=False)"
   ]
  },
  {
   "cell_type": "markdown",
   "id": "c437201f",
   "metadata": {},
   "source": [
    "### Standardize using GENIE translator\n",
    "The cell below attempts to standardize the 454 filtered fusions from CHOP"
   ]
  },
  {
   "cell_type": "code",
   "execution_count": 28,
   "id": "3da0a71b",
   "metadata": {},
   "outputs": [],
   "source": [
    "chop_fusions = await harvester.load_records(fusion_path=Path(\"data/genie_data/chop_data.csv\"))"
   ]
  },
  {
   "cell_type": "markdown",
   "id": "cb3e7be7",
   "metadata": {},
   "source": [
    "## 7. DUKE\n",
    "The following cells attempt to standardize data from the DUKE center"
   ]
  },
  {
   "cell_type": "code",
   "execution_count": 29,
   "id": "0ff9190b",
   "metadata": {},
   "outputs": [
    {
     "data": {
      "text/plain": [
       "'The number of filtered fusions from DUKE is: 524'"
      ]
     },
     "execution_count": 29,
     "metadata": {},
     "output_type": "execute_result"
    }
   ],
   "source": [
    "duke_data = genie_fusions[genie_fusions[\"Center\"] == \"DUKE\"]\n",
    "f\"The number of filtered fusions from DUKE is: {len(duke_data)}\""
   ]
  },
  {
   "cell_type": "markdown",
   "id": "15251b63",
   "metadata": {},
   "source": [
    "We want to filter using the `Annotation` variable to remove any possible non-fusion events"
   ]
  },
  {
   "cell_type": "code",
   "execution_count": 30,
   "id": "b342b21b",
   "metadata": {},
   "outputs": [
    {
     "data": {
      "text/plain": [
       "'The number of filtered fusions from DUKE is: 301'"
      ]
     },
     "execution_count": 30,
     "metadata": {},
     "output_type": "execute_result"
    }
   ],
   "source": [
    "duke_data = duke_data[duke_data[\"Annotation\"].str.contains(\"fusion\", case=False, na=False)]\n",
    "f\"The number of filtered fusions from DUKE is: {len(duke_data)}\""
   ]
  },
  {
   "cell_type": "code",
   "execution_count": 31,
   "id": "9981e5c3",
   "metadata": {},
   "outputs": [],
   "source": [
    "duke_data.to_csv(\"data/genie_data/duke_data.csv\", sep=\"\\t\", index=False)"
   ]
  },
  {
   "cell_type": "markdown",
   "id": "ffeaa1fb",
   "metadata": {},
   "source": [
    "### Standardize using GENIE translator\n",
    "The cell below attempts to standardize the 301 filtered fusions from DUKE"
   ]
  },
  {
   "cell_type": "code",
   "execution_count": 32,
   "id": "dc75fbfb",
   "metadata": {},
   "outputs": [],
   "source": [
    "duke_fusions = await harvester.load_records(fusion_path=Path(\"data/genie_data/duke_data.csv\"))"
   ]
  },
  {
   "cell_type": "markdown",
   "id": "984e13bd",
   "metadata": {},
   "source": [
    "## 8. DFCI\n",
    "The following cells attempt to standardize data from the DFCI center"
   ]
  },
  {
   "cell_type": "code",
   "execution_count": 33,
   "id": "7bac702d",
   "metadata": {},
   "outputs": [
    {
     "data": {
      "text/plain": [
       "'The number of filtered fusions from DFCI is: 7400'"
      ]
     },
     "execution_count": 33,
     "metadata": {},
     "output_type": "execute_result"
    }
   ],
   "source": [
    "dfci_data = genie_fusions[genie_fusions[\"Center\"] == \"DFCI\"]\n",
    "f\"The number of filtered fusions from DFCI is: {len(dfci_data)}\""
   ]
  },
  {
   "cell_type": "markdown",
   "id": "7cb37159",
   "metadata": {},
   "source": [
    "The DFCI data does not contain genomic breakpoints. We want to validate that only fusion events have been selected, so we will run the following filter to confirm that all non-fusion events were dropped"
   ]
  },
  {
   "cell_type": "code",
   "execution_count": 34,
   "id": "295d41b7",
   "metadata": {},
   "outputs": [
    {
     "data": {
      "text/plain": [
       "'The number of filtered fusions from DFCI is: 7400'"
      ]
     },
     "execution_count": 34,
     "metadata": {},
     "output_type": "execute_result"
    }
   ],
   "source": [
    "dfci_data = dfci_data[~dfci_data[\"Event_Info\"].str.contains(\"intergenic|intragenic\", case=False, na=False)]\n",
    "f\"The number of filtered fusions from DFCI is: {len(dfci_data)}\""
   ]
  },
  {
   "cell_type": "code",
   "execution_count": 35,
   "id": "915d99b6",
   "metadata": {},
   "outputs": [],
   "source": [
    "dfci_data.to_csv(\"data/genie_data/dfci_data.csv\", sep=\"\\t\", index=False)"
   ]
  },
  {
   "cell_type": "markdown",
   "id": "b6c0bdda",
   "metadata": {},
   "source": [
    "### Standardize using GENIE translator\n",
    "The cell below attempts to standardize the 7400 filtered fusions from DFCI"
   ]
  },
  {
   "cell_type": "code",
   "execution_count": 36,
   "id": "e5eab42e",
   "metadata": {},
   "outputs": [],
   "source": [
    "dfci_fusions = await harvester.load_records(fusion_path=Path(\"data/genie_data/dfci_data.csv\"))"
   ]
  },
  {
   "cell_type": "markdown",
   "id": "9bb25593",
   "metadata": {},
   "source": [
    "## 9. PROV\n",
    "The following cells attempt to standardize data from the PROV data center"
   ]
  },
  {
   "cell_type": "code",
   "execution_count": 37,
   "id": "c89b4f31",
   "metadata": {},
   "outputs": [
    {
     "data": {
      "text/plain": [
       "'The number of filtered fusions from PROV is: 2193'"
      ]
     },
     "execution_count": 37,
     "metadata": {},
     "output_type": "execute_result"
    }
   ],
   "source": [
    "prov_data = genie_fusions[genie_fusions[\"Center\"] == \"PROV\"]\n",
    "f\"The number of filtered fusions from PROV is: {len(prov_data)}\""
   ]
  },
  {
   "cell_type": "markdown",
   "id": "d1b59ef5",
   "metadata": {},
   "source": [
    "We want to validate that we only have fusion events by looking at the `Class` column"
   ]
  },
  {
   "cell_type": "code",
   "execution_count": 38,
   "id": "8a4308df",
   "metadata": {},
   "outputs": [
    {
     "data": {
      "text/plain": [
       "'The number of filtered fusions from PROV is: 2193'"
      ]
     },
     "execution_count": 38,
     "metadata": {},
     "output_type": "execute_result"
    }
   ],
   "source": [
    "prov_data = genie_fusions[genie_fusions[\"Class\"] == \"FUSION\"]\n",
    "f\"The number of filtered fusions from PROV is: {len(prov_data)}\""
   ]
  },
  {
   "cell_type": "code",
   "execution_count": 39,
   "id": "402c9131",
   "metadata": {},
   "outputs": [],
   "source": [
    "prov_data.to_csv(\"data/genie_data/prov_data.csv\", sep=\"\\t\", index=False)"
   ]
  },
  {
   "cell_type": "markdown",
   "id": "394e3d1d",
   "metadata": {},
   "source": [
    "### Standardize using GENIE translator\n",
    "The cell below attempts to standardize the 2193 filtered fusions from PROV"
   ]
  },
  {
   "cell_type": "code",
   "execution_count": 40,
   "id": "93ada1e4",
   "metadata": {},
   "outputs": [],
   "source": [
    "prov_fusions = await harvester.load_records(fusion_path=Path(\"data/genie_data/prov_data.csv\"))"
   ]
  },
  {
   "cell_type": "markdown",
   "id": "2eff6420",
   "metadata": {},
   "source": [
    "## 10. Using `FusionMatcher` to match GENIE fusion against the CIViC and MOA knowledgebases\n",
    "The following section attempts to match standardized fusions from the GENIE cohort against the Clinical Interpretations of Variants in Cancer (CIViC) and Molecular Oncology Almanac (MOA) knowledgebases. The following cells are adapted from the demonstrative analysis notebook."
   ]
  },
  {
   "cell_type": "markdown",
   "id": "64b52dc2",
   "metadata": {},
   "source": [
    "### CIViC\n",
    "The cell below loads from the saved CIViC cache (from 10/11/25) and creates a list of `CategoricalFusion` objects. We are filtering for accepted and submitted variants from CIViC."
   ]
  },
  {
   "cell_type": "code",
   "execution_count": 41,
   "id": "86520d0a",
   "metadata": {},
   "outputs": [
    {
     "name": "stderr",
     "output_type": "stream",
     "text": [
      "ERROR:fusor.harvester:Cannot translate fusion: FGFR3(entrez:2261)::v due to the following reason: Translation cannot proceed as GRCh37 transcripts and exons lacks genomic breakpoints\n",
      "Traceback (most recent call last):\n",
      "  File \"/Users/rsjxa001/fusion_project/fusor/src/fusor/harvester.py\", line 412, in load_records\n",
      "    cat_fusion = await self.translator.translate(civic=fusion)\n",
      "                 ^^^^^^^^^^^^^^^^^^^^^^^^^^^^^^^^^^^^^^^^^^^^^\n",
      "  File \"/Users/rsjxa001/fusion_project/fusor/src/fusor/translator.py\", line 997, in translate\n",
      "    raise ValueError(msg)\n",
      "ValueError: Translation cannot proceed as GRCh37 transcripts and exons lacks genomic breakpoints\n",
      "ERROR:fusor.harvester:Cannot translate fusion: TCF3(entrez:6929)::PBX1(entrez:5087) due to the following reason: Translation cannot proceed as GRCh37 transcripts and exons lacks genomic breakpoints\n",
      "Traceback (most recent call last):\n",
      "  File \"/Users/rsjxa001/fusion_project/fusor/src/fusor/harvester.py\", line 412, in load_records\n",
      "    cat_fusion = await self.translator.translate(civic=fusion)\n",
      "                 ^^^^^^^^^^^^^^^^^^^^^^^^^^^^^^^^^^^^^^^^^^^^^\n",
      "  File \"/Users/rsjxa001/fusion_project/fusor/src/fusor/translator.py\", line 997, in translate\n",
      "    raise ValueError(msg)\n",
      "ValueError: Translation cannot proceed as GRCh37 transcripts and exons lacks genomic breakpoints\n",
      "ERROR:fusor.harvester:Cannot translate fusion: ENST00000302418.5(KIF5B):e.24::ENST00000397752.3(MET):e.15 due to the following reason: Translation cannot proceed as GRCh37 transcripts and exons lacks genomic breakpoints\n",
      "Traceback (most recent call last):\n",
      "  File \"/Users/rsjxa001/fusion_project/fusor/src/fusor/harvester.py\", line 412, in load_records\n",
      "    cat_fusion = await self.translator.translate(civic=fusion)\n",
      "                 ^^^^^^^^^^^^^^^^^^^^^^^^^^^^^^^^^^^^^^^^^^^^^\n",
      "  File \"/Users/rsjxa001/fusion_project/fusor/src/fusor/translator.py\", line 997, in translate\n",
      "    raise ValueError(msg)\n",
      "ValueError: Translation cannot proceed as GRCh37 transcripts and exons lacks genomic breakpoints\n",
      "ERROR:fusor.harvester:Cannot translate fusion: ENST00000275493.7(EGFR):e.24::ENST00000267868.8(RAD51):e.4 due to the following reason: Translation cannot proceed as GRCh37 transcripts and exons lacks genomic breakpoints\n",
      "Traceback (most recent call last):\n",
      "  File \"/Users/rsjxa001/fusion_project/fusor/src/fusor/harvester.py\", line 412, in load_records\n",
      "    cat_fusion = await self.translator.translate(civic=fusion)\n",
      "                 ^^^^^^^^^^^^^^^^^^^^^^^^^^^^^^^^^^^^^^^^^^^^^\n",
      "  File \"/Users/rsjxa001/fusion_project/fusor/src/fusor/translator.py\", line 997, in translate\n",
      "    raise ValueError(msg)\n",
      "ValueError: Translation cannot proceed as GRCh37 transcripts and exons lacks genomic breakpoints\n",
      "WARNING:fusor.harvester:5 fusion(s) were dropped during translation\n"
     ]
    }
   ],
   "source": [
    "from fusor.harvester import CIVICHarvester\n",
    "\n",
    "harvester = CIVICHarvester(fusor=fusor, local_cache_path=\"data/caches/civic_cache_20251011.pkl\", include_status=[\"accepted\", \"submitted\"])\n",
    "civic_fusions = await harvester.load_records()"
   ]
  },
  {
   "cell_type": "markdown",
   "id": "c5befeae",
   "metadata": {},
   "source": [
    "There are 5 fusions from CIViC that fail to translation to `CategoricalFusion` objects:\n",
    "\n",
    "- 1 fusion (FGFR2::?) fails to translate as the 3' partner is `?`, which represents an `UnknownGeneElement`. This class is restricted to `AssayedFusion` objects\n",
    "- 4 fusions fail to translate as they are missing genomic coordinates in CIViC, which is required for fusions described using GRCh37 transcripts"
   ]
  },
  {
   "cell_type": "markdown",
   "id": "6bc8f549",
   "metadata": {},
   "source": [
    "### MOA\n",
    "The cell below loads from the saved MOA cache (10/02/25) and creates a list of CategoricalFusion objects."
   ]
  },
  {
   "cell_type": "code",
   "execution_count": 42,
   "id": "c033abc7",
   "metadata": {},
   "outputs": [],
   "source": [
    "from fusor.harvester import MOAHarvester\n",
    "\n",
    "harvester = MOAHarvester(fusor=fusor, cache_dir=Path(\"data/caches\"), use_local=True)\n",
    "moa_fusions = harvester.load_records()"
   ]
  },
  {
   "cell_type": "markdown",
   "id": "a674805d",
   "metadata": {},
   "source": [
    "### Create fusions list\n",
    "Run the following cell to create a list of combined GENIE fusions and combined CIViC + MOA fusions"
   ]
  },
  {
   "cell_type": "code",
   "execution_count": 43,
   "id": "05b3b651",
   "metadata": {},
   "outputs": [],
   "source": [
    "assayed_fusions = msk_fusions + uhn_fusions + vicc_fusions + ucsf_fusions + chop_fusions + duke_fusions + dfci_fusions + prov_fusions\n",
    "categorical_fusions = civic_fusions + moa_fusions"
   ]
  },
  {
   "cell_type": "markdown",
   "id": "23557d2d",
   "metadata": {},
   "source": [
    "### Run `FusionMatcher`\n",
    "Run the following cell to query each assayed fusion from the GENIE cohort against CIViC + MOA"
   ]
  },
  {
   "cell_type": "code",
   "execution_count": 44,
   "id": "083ceaec",
   "metadata": {},
   "outputs": [],
   "source": [
    "from fusor.fusion_matching import FusionMatcher\n",
    "\n",
    "fm = FusionMatcher(assayed_fusions=assayed_fusions,\n",
    "                   comparator_fusions=categorical_fusions)\n",
    "\n",
    "matches = await fm.match_fusion()"
   ]
  },
  {
   "cell_type": "code",
   "execution_count": 45,
   "id": "68d55a50",
   "metadata": {},
   "outputs": [
    {
     "data": {
      "text/plain": [
       "'The number of examined GENIE fusions is: 16343'"
      ]
     },
     "execution_count": 45,
     "metadata": {},
     "output_type": "execute_result"
    }
   ],
   "source": [
    "f\"The number of examined GENIE fusions is: {len(assayed_fusions)}\""
   ]
  },
  {
   "cell_type": "code",
   "execution_count": 46,
   "id": "4818f913",
   "metadata": {},
   "outputs": [
    {
     "data": {
      "text/plain": [
       "'The number of GENIE fusions with returned matches is: 7896'"
      ]
     },
     "execution_count": 46,
     "metadata": {},
     "output_type": "execute_result"
    }
   ],
   "source": [
    "returned_matches = [match for match in matches if match]\n",
    "f\"The number of GENIE fusions with returned matches is: {len(returned_matches)}\""
   ]
  },
  {
   "cell_type": "markdown",
   "id": "f0228387",
   "metadata": {},
   "source": [
    "### Characterize fusion matches among the GENIE cohort\n",
    "Run the following cells to visualize the kinds of matches that occurred among the GENIE cohort against CIViC and MOA"
   ]
  },
  {
   "cell_type": "markdown",
   "id": "471ef368",
   "metadata": {},
   "source": [
    "The functions in the following two cells are adpated from the demonstrative analysis notebook:"
   ]
  },
  {
   "cell_type": "code",
   "execution_count": 47,
   "id": "5b7c868e",
   "metadata": {},
   "outputs": [],
   "source": [
    "from fusor.models import CategoricalFusion\n",
    "from fusor.fusion_matching import MatchType\n",
    "from collections import Counter\n",
    "\n",
    "def count_match_types(matches: list[tuple[CategoricalFusion, MatchType]]) -> dict:\n",
    "    \"\"\"Count the number of match types across a list of matching output\n",
    "    \n",
    "    :param matches: A list of tuples containing CategoricalFusion and MatchType \n",
    "        objects\n",
    "    :return: A dictionary describing the number of fusions that belong in each \n",
    "        shared fusion match category\"\"\"\n",
    "    element_counts = [match[1].priority // 10 for match in matches]\n",
    "    element_counts = Counter(element_counts)\n",
    "    map = {1: \"exact\", 2:\"shared_genes_exact_one_partner\", 3:\"shared_genes\", \n",
    "           4:\"exact_one_partner\", 5:\"shared_gene_one_partner\"}\n",
    "    return {map[key]: value for key, value in element_counts.items()}"
   ]
  },
  {
   "cell_type": "code",
   "execution_count": 48,
   "id": "6b89bcfb",
   "metadata": {},
   "outputs": [],
   "source": [
    "def count_match_types_fusion(match_info: list[list[tuple[CategoricalFusion, MatchType]]]) -> dict[str, int]:\n",
    "    \"\"\"Count the number of match types that occur across a fusion sample\n",
    "    \n",
    "    :param match_info: A list of list of tuples containing the match information\n",
    "        for a patient sample\n",
    "    :return: A dictionary describing match information for the fusion\n",
    "    \"\"\"\n",
    "    categories = [\n",
    "        \"exact\",\n",
    "        \"shared_genes_exact_one_partner\",\n",
    "        \"shared_genes\",\n",
    "        \"exact_one_partner\",\n",
    "        \"shared_gene_one_partner\",\n",
    "    ]\n",
    "    total_counts = Counter({cat: 0 for cat in categories})\n",
    "    \n",
    "    for match in match_info:\n",
    "        match_dat = count_match_types(match)\n",
    "        total_counts.update({k: match_dat.get(k, 0) for k in categories})\n",
    "    \n",
    "    return dict(total_counts)"
   ]
  },
  {
   "cell_type": "markdown",
   "id": "487c7b2b",
   "metadata": {},
   "source": [
    "#### Get highest returned priority match type across patients\n",
    "The cell below reports the highest priority type that is returned for the matching CategoricalFusions for each patient sample."
   ]
  },
  {
   "cell_type": "code",
   "execution_count": 49,
   "id": "8d3c7ee3",
   "metadata": {},
   "outputs": [],
   "source": [
    "highest_priority = []\n",
    "for matching_fusion in returned_matches:\n",
    "    priority = count_match_types_fusion([matching_fusion])\n",
    "    for key in priority:\n",
    "        if priority[key] > 0:\n",
    "            highest_priority.append(key)\n",
    "            break"
   ]
  },
  {
   "cell_type": "markdown",
   "id": "098f10ec",
   "metadata": {},
   "source": [
    "Run the cells below to visualize the highest fusion priority type that is returned for each GENIE fusion with a matching `CategoricalFusion`."
   ]
  },
  {
   "cell_type": "code",
   "execution_count": 50,
   "id": "084d4bdd",
   "metadata": {},
   "outputs": [],
   "source": [
    "match_counts = Counter(highest_priority)\n",
    "\n",
    "columns = [\"priority_type\", \"count\"]\n",
    "highest_priority_df = pd.DataFrame(columns=columns)\n",
    "highest_priority_df[\"priority_type\"] = [\"exact\", \"shared_genes_exact_one_partner\",\n",
    "                                        \"shared_genes\",  \"exact_one_partner\",\n",
    "                                        \"shared_gene_one_partner\"]\n",
    "highest_priority_df[\"count\"] = [match_counts[\"exact\"], \n",
    "                                match_counts[\"shared_genes_exact_one_partner\"],\n",
    "                                match_counts[\"shared_genes\"],\n",
    "                                match_counts[\"exact_one_partner\"],\n",
    "                                match_counts[\"shared_gene_one_partner\"]]"
   ]
  },
  {
   "cell_type": "code",
   "execution_count": 51,
   "id": "79f3f432",
   "metadata": {},
   "outputs": [
    {
     "data": {
      "image/png": "[encoded data removed]",
      "text/plain": [
       "<Figure size 800x600 with 1 Axes>"
      ]
     },
     "metadata": {},
     "output_type": "display_data"
    }
   ],
   "source": [
    "import matplotlib.pyplot as plt\n",
    "import seaborn as sns\n",
    "\n",
    "highest_priority_df = highest_priority_df[highest_priority_df[\"count\"] > 0]\n",
    "\n",
    "bar_colors = sns.color_palette(\"Set2\")\n",
    "\n",
    "ax = highest_priority_df.plot.bar(x=\"priority_type\", y=\"count\",\n",
    "                                  title=\"Highest Returned Priority Type for each Fusion\",\n",
    "                                  figsize=(8, 6), color=bar_colors, legend=False)\n",
    "plt.xlabel(\"Priority Type\")\n",
    "plt.ylabel(\"Number of Samples\")\n",
    "plt.xticks(rotation=30, ha=\"right\")\n",
    "ymax = highest_priority_df[\"count\"].max()\n",
    "plt.margins(x=0.05, y=0.1)\n",
    "plt.tight_layout()\n",
    "\n",
    "for container in ax.containers:\n",
    "    ax.bar_label(container, fmt='%d', label_type='edge', padding=3)\n",
    "\n",
    "plt.show()"
   ]
  }
 ],
 "metadata": {
  "kernelspec": {
   "display_name": "fusor",
   "language": "python",
   "name": "python3"
  },
  "language_info": {
   "codemirror_mode": {
    "name": "ipython",
    "version": 3
   },
   "file_extension": ".py",
   "mimetype": "text/x-python",
   "name": "python",
   "nbconvert_exporter": "python",
   "pygments_lexer": "ipython3",
   "version": "3.13.5"
  }
 },
 "nbformat": 4,
 "nbformat_minor": 5
}
