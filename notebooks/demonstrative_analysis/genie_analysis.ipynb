{
 "cells": [
  {
   "cell_type": "markdown",
   "id": "4d8cf445",
   "metadata": {},
   "source": [
    "# GENIE Analysis\n",
    "This analysis highlights useful statistics for fusion data from the AACR Project Genie cohort"
   ]
  },
  {
   "cell_type": "markdown",
   "id": "0e400b89",
   "metadata": {},
   "source": [
    "The cells below are run to set environment variables and load in FUSOR."
   ]
  },
  {
   "cell_type": "code",
   "execution_count": 1,
   "id": "9ddb2148",
   "metadata": {},
   "outputs": [],
   "source": [
    "from os import environ\n",
    "import logging\n",
    "from pathlib import Path\n",
    "\n",
    "# These are the configurations for the UTA and SeqRepo databases. These should\n",
    "# be adjusted by the user based on the locations where these databases exist.\n",
    "environ[\"UTA_DB_URL\"] = \"postgresql://anonymous@localhost:5432/uta/uta_20241220\"\n",
    "environ[\"SEQREPO_ROOT_DIR\"] = \"/usr/local/share/seqrepo/2024-12-20\"\n",
    "\n",
    "# Cool-Seq-Tool will log warning messages for reasons including having breakpoints\n",
    "# that occur outside of the transcript boundaries and having gene partners \n",
    "# that do not have MANE select transcripts. We are silencing these warning \n",
    "# messages in the output, as FUSOR objects can still be generated for these\n",
    "# cases.\n",
    "logging.getLogger(\"cool_seq_tool\").setLevel(logging.ERROR)"
   ]
  },
  {
   "cell_type": "code",
   "execution_count": 2,
   "id": "a0fb4939",
   "metadata": {},
   "outputs": [
    {
     "name": "stdout",
     "output_type": "stream",
     "text": [
      "***Using Gene Database Endpoint: http://localhost:8000***\n"
     ]
    }
   ],
   "source": [
    "from fusor.fusor import FUSOR\n",
    "from fusor.fusion_matching import FusionMatcher\n",
    "\n",
    "fusor = FUSOR()"
   ]
  },
  {
   "cell_type": "markdown",
   "id": "f247dfd2",
   "metadata": {},
   "source": [
    "## 1. Filtering Operations\n",
    "The cells below are used to perform filtering to extract fusion events from the GENIE structural variant data"
   ]
  },
  {
   "cell_type": "code",
   "execution_count": 3,
   "id": "25b35773",
   "metadata": {},
   "outputs": [
    {
     "data": {
      "text/plain": [
       "'The number of rows in the GENIE structural variant file is 54124'"
      ]
     },
     "execution_count": 3,
     "metadata": {},
     "output_type": "execute_result"
    }
   ],
   "source": [
    "import pandas as pd\n",
    "import numpy as np\n",
    "\n",
    "genie_data = pd.read_csv(\"data/data_sv.txt\", sep=\"\\t\", dtype=str)\n",
    "f\"The number of rows in the GENIE structural variant file is {len(genie_data)}\""
   ]
  },
  {
   "cell_type": "markdown",
   "id": "f05a9baf",
   "metadata": {},
   "source": [
    "We want to filter for rows where both `Site1_Hugo_Symbol` and `Site2_Hugo_Symbol` are non-Null values and are different from each other. These conditions help to filter on potential fusion events in the file."
   ]
  },
  {
   "cell_type": "code",
   "execution_count": 4,
   "id": "990e803c",
   "metadata": {},
   "outputs": [
    {
     "data": {
      "text/plain": [
       "'The number of potential fusion events is: 32092'"
      ]
     },
     "execution_count": 4,
     "metadata": {},
     "output_type": "execute_result"
    }
   ],
   "source": [
    "genie_fusions = genie_data[\n",
    "    genie_data[\"Site1_Hugo_Symbol\"].notna() &\n",
    "    genie_data[\"Site2_Hugo_Symbol\"].notna() &\n",
    "    (genie_data[\"Site1_Hugo_Symbol\"] != genie_data[\"Site2_Hugo_Symbol\"])\n",
    "]\n",
    "f\"The number of potential fusion events is: {len(genie_fusions)}\""
   ]
  },
  {
   "cell_type": "markdown",
   "id": "9417ad2c",
   "metadata": {},
   "source": [
    "There are some rows where `INTERGENIC` and `INTRAGENIC` are used as a gene symbol. These do not indicate fusion events, so we want to filter on these as well."
   ]
  },
  {
   "cell_type": "code",
   "execution_count": 5,
   "id": "d0119727",
   "metadata": {},
   "outputs": [
    {
     "data": {
      "text/plain": [
       "'The number of potential fusion events after removing for INTERGENIC and INTRAGENIC entries is: 21894'"
      ]
     },
     "execution_count": 5,
     "metadata": {},
     "output_type": "execute_result"
    }
   ],
   "source": [
    "genie_fusions = genie_fusions[\n",
    "    (~genie_fusions[\"Site1_Hugo_Symbol\"].isin([\"INTERGENIC\", \"INTRAGENIC\"])) &\n",
    "    (~genie_fusions[\"Site2_Hugo_Symbol\"].isin([\"INTERGENIC\", \"INTRAGENIC\"]))\n",
    "]\n",
    "f\"The number of potential fusion events after removing for INTERGENIC and INTRAGENIC entries is: {len(genie_fusions)}\""
   ]
  },
  {
   "cell_type": "markdown",
   "id": "5a63af28",
   "metadata": {},
   "source": [
    "## 2. MSK\n",
    "The next cells run analyses to highlight challenges with standardizing fusion data from the MSK center."
   ]
  },
  {
   "cell_type": "markdown",
   "id": "deedf0a6",
   "metadata": {},
   "source": [
    "The cell below defines helper functions that will be used"
   ]
  },
  {
   "cell_type": "code",
   "execution_count": 6,
   "id": "1ad88ac4",
   "metadata": {},
   "outputs": [],
   "source": [
    "def is_ordered_correctly(five_prime_gene: str, three_prime_gene, annot: str) -> bool:\n",
    "    \"\"\"Determine if the fusion partners are oriented correctly for the MSK subset\n",
    "    \n",
    "    :param five_prime_gene: The assumed 5' gene partner, provided in the Site1_Hugo_Symbol column\n",
    "    :param three_prime_gene: The assumed 3' gene partner, provided in the Site2_Hugo_Symbol column\n",
    "    :param annot: The fusion annotation\n",
    "    :return: ``True`` if the orientation is consistent, ``False`` if not\n",
    "    \"\"\"\n",
    "    elements = annot.split(\" \")\n",
    "    five_prime_index = next((i for i, word in enumerate(elements) if word == five_prime_gene), None)\n",
    "    three_prime_index = next((i for i, word in enumerate(elements) if word == three_prime_gene), None)\n",
    "    return bool(five_prime_index < three_prime_index)\n",
    "\n",
    "def both_genes_present(five_prime_gene: str, three_prime_gene, annot: str) -> bool:\n",
    "    \"\"\"Determine if both genes partners are present in the annotation\n",
    "    \n",
    "    :param five_prime_gene: The assumed 5' gene partner, provided in the Site1_Hugo_Symbol column\n",
    "    :param three_prime_gene: The assumed 3' gene partner, provided in the Site2_Hugo_Symbol column\n",
    "    :param annot: The fusion annotation\n",
    "    :return: ``True`` if both partners are present, ``False`` if not\n",
    "    \"\"\"\n",
    "    if pd.isna(annot):\n",
    "        # Return False if the annotation string is not available\n",
    "        return False\n",
    "    elements = annot.split(\" \")\n",
    "    if five_prime_gene in elements and three_prime_gene in elements:\n",
    "        return True\n",
    "    return False\n",
    "\n",
    "def are_breakpoints_correct(five_prime_gene: str, three_prime_gene, \n",
    "                            five_prime_description: str, three_prime_description) -> bool:\n",
    "    \"\"\"Determine if the supplied breakpoints describe the correct partner\n",
    "    \n",
    "    :param five_prime_gene: The assumed 5' gene partner, provided in the Site1_Hugo_Symbol column\n",
    "    :param three_prime_gene: The assumed 3' gene partner, provided in the Site2_Hugo_Symbol column\n",
    "    :param five_prime_description: The 5' gene partner location description, provided in the Site1_Description column\n",
    "    :param three_prime_description: The 3' gene partner location description, provided in the Site2_Description column\n",
    "    \"\"\"\n",
    "    if pd.isna(five_prime_description) and pd.isna(three_prime_description):\n",
    "        # Return True. This corresponds to gene fusion events that were detected by Archer\n",
    "        return True\n",
    "    return bool(five_prime_gene in five_prime_description and three_prime_gene in three_prime_description)"
   ]
  },
  {
   "cell_type": "code",
   "execution_count": 7,
   "id": "ace478b7",
   "metadata": {},
   "outputs": [
    {
     "data": {
      "text/plain": [
       "'The number of filtered fusions from MSK is: 9315'"
      ]
     },
     "execution_count": 7,
     "metadata": {},
     "output_type": "execute_result"
    }
   ],
   "source": [
    "msk_data = genie_fusions[genie_fusions[\"Center\"] == \"MSK\"]\n",
    "f\"The number of filtered fusions from MSK is: {len(msk_data)}\""
   ]
  },
  {
   "cell_type": "markdown",
   "id": "9048ff71",
   "metadata": {},
   "source": [
    "Select rows where both gene partners appear in the annotation string"
   ]
  },
  {
   "cell_type": "code",
   "execution_count": 8,
   "id": "91dc8ca3",
   "metadata": {},
   "outputs": [
    {
     "data": {
      "text/plain": [
       "'The number of filtered fusions from MSK is: 8348'"
      ]
     },
     "execution_count": 8,
     "metadata": {},
     "output_type": "execute_result"
    }
   ],
   "source": [
    "msk_data = msk_data[\n",
    "    msk_data.apply(\n",
    "        lambda row: both_genes_present(\n",
    "            row[\"Site1_Hugo_Symbol\"],\n",
    "            row[\"Site2_Hugo_Symbol\"],\n",
    "            row[\"Annotation\"]\n",
    "        ),\n",
    "        axis=1\n",
    "    )\n",
    "]\n",
    "f\"The number of filtered fusions from MSK is: {len(msk_data)}\""
   ]
  },
  {
   "cell_type": "markdown",
   "id": "259debc7",
   "metadata": {},
   "source": [
    "There are some rows where the 5' and 3' partners appear to be out of order when examining the annotation string. We want to filter to include rows where we believe the partners to be in order."
   ]
  },
  {
   "cell_type": "code",
   "execution_count": 9,
   "id": "d36a6658",
   "metadata": {},
   "outputs": [
    {
     "data": {
      "text/plain": [
       "'The number of filtered fusions from MSK is: 7268'"
      ]
     },
     "execution_count": 9,
     "metadata": {},
     "output_type": "execute_result"
    }
   ],
   "source": [
    "msk_data = msk_data[\n",
    "    msk_data.apply(\n",
    "        lambda row: is_ordered_correctly(\n",
    "            row[\"Site1_Hugo_Symbol\"],\n",
    "            row[\"Site2_Hugo_Symbol\"],\n",
    "            row[\"Annotation\"]\n",
    "        ),\n",
    "        axis=1\n",
    "    )\n",
    "]\n",
    "f\"The number of filtered fusions from MSK is: {len(msk_data)}\""
   ]
  },
  {
   "cell_type": "markdown",
   "id": "1660f9d2",
   "metadata": {},
   "source": [
    "There are some rows where the provided genomic breakpoints appear out of order, describing the wrong partner. We want to filter to include rows where we believe the correct genomic breakpoints are provided."
   ]
  },
  {
   "cell_type": "code",
   "execution_count": 10,
   "id": "cb809396",
   "metadata": {},
   "outputs": [
    {
     "data": {
      "text/plain": [
       "'The number of filtered fusions from MSK is: 4258'"
      ]
     },
     "execution_count": 10,
     "metadata": {},
     "output_type": "execute_result"
    }
   ],
   "source": [
    "msk_data = msk_data[\n",
    "    msk_data.apply(\n",
    "        lambda row: are_breakpoints_correct(\n",
    "            row[\"Site1_Hugo_Symbol\"],\n",
    "            row[\"Site2_Hugo_Symbol\"],\n",
    "            row[\"Site1_Description\"],\n",
    "            row[\"Site2_Description\"],\n",
    "        ),\n",
    "        axis=1\n",
    "    )\n",
    "]\n",
    "f\"The number of filtered fusions from MSK is: {len(msk_data)}\""
   ]
  },
  {
   "cell_type": "code",
   "execution_count": 11,
   "id": "97ff9043",
   "metadata": {},
   "outputs": [],
   "source": [
    "msk_data.to_csv(\"data/genie_data/msk_data.csv\", sep=\"\\t\", index=False)"
   ]
  },
  {
   "cell_type": "code",
   "execution_count": 12,
   "id": "3e9d945c",
   "metadata": {},
   "outputs": [],
   "source": [
    "msk_data[msk_data[\"Site1_Position\"].isna()].to_csv(\"data/genie_data/msk_data_test.csv\", sep=\"\\t\", index=False)"
   ]
  },
  {
   "cell_type": "markdown",
   "id": "24bb3355",
   "metadata": {},
   "source": [
    "### Standardize using GENIE translator\n",
    "The cell below attempts to standardize the 4,258 filtered fusions from MSK"
   ]
  },
  {
   "cell_type": "code",
   "execution_count": 13,
   "id": "0af85774",
   "metadata": {},
   "outputs": [],
   "source": [
    "from fusor.harvester import GenieHarvester\n",
    "from cool_seq_tool.schemas import Assembly\n",
    "\n",
    "harvester = GenieHarvester(fusor=fusor, assembly=Assembly.GRCH37)\n",
    "msk_fusions = await harvester.load_records(fusion_path=Path(\"data/genie_data/msk_data.csv\"))"
   ]
  },
  {
   "cell_type": "markdown",
   "id": "a43982bb",
   "metadata": {},
   "source": [
    "## 3. UHN\n",
    "The next cells standardizes data from the UHN center. This subset has consistent strcture, so no additional filtering is required"
   ]
  },
  {
   "cell_type": "code",
   "execution_count": 18,
   "id": "0658324c",
   "metadata": {},
   "outputs": [
    {
     "data": {
      "text/plain": [
       "'The number of filtered fusions from MSK is: 92'"
      ]
     },
     "execution_count": 18,
     "metadata": {},
     "output_type": "execute_result"
    }
   ],
   "source": [
    "uhn_data = genie_fusions[genie_fusions[\"Center\"] == \"UHN\"]\n",
    "f\"The number of filtered fusions from MSK is: {len(uhn_data)}\""
   ]
  },
  {
   "cell_type": "code",
   "execution_count": 19,
   "id": "3d2129f0",
   "metadata": {},
   "outputs": [],
   "source": [
    "uhn_data.to_csv(\"data/genie_data/uhn_data.csv\", sep=\"\\t\", index=False)"
   ]
  },
  {
   "cell_type": "markdown",
   "id": "cb1536b4",
   "metadata": {},
   "source": [
    "### Standardize using GENIE translator\n",
    "The cell below attempts to standardize the 92 filtered fusions from UHN"
   ]
  },
  {
   "cell_type": "code",
   "execution_count": 20,
   "id": "a2e5d99c",
   "metadata": {},
   "outputs": [],
   "source": [
    "uhn_fusions = await harvester.load_records(fusion_path=Path(\"data/genie_data/uhn_data.csv\"))"
   ]
  },
  {
   "cell_type": "markdown",
   "id": "b6c7ede7",
   "metadata": {},
   "source": [
    "## 4. VICC\n",
    "The next cells standardizes data from the VICC center"
   ]
  },
  {
   "cell_type": "code",
   "execution_count": 31,
   "id": "1a86a722",
   "metadata": {},
   "outputs": [
    {
     "data": {
      "text/plain": [
       "'The number of filtered fusions from VICC is: 450'"
      ]
     },
     "execution_count": 31,
     "metadata": {},
     "output_type": "execute_result"
    }
   ],
   "source": [
    "vicc_data = genie_fusions[genie_fusions[\"Center\"] == \"VICC\"]\n",
    "f\"The number of filtered fusions from VICC is: {len(vicc_data)}\""
   ]
  },
  {
   "cell_type": "markdown",
   "id": "01105ac8",
   "metadata": {},
   "source": [
    "The VICC data includes rearrangements, which appear to be distinct from fusions. We want to only include fusions, so we will filter on the `Event_Info` field"
   ]
  },
  {
   "cell_type": "code",
   "execution_count": 32,
   "id": "9f92b0b1",
   "metadata": {},
   "outputs": [
    {
     "data": {
      "text/plain": [
       "'The number of filtered fusions from VICC is: 226'"
      ]
     },
     "execution_count": 32,
     "metadata": {},
     "output_type": "execute_result"
    }
   ],
   "source": [
    "vicc_data = vicc_data[~vicc_data[\"Event_Info\"].str.contains(\"truncation|intragenic|rearrangement\", case=False, na=False)]\n",
    "f\"The number of filtered fusions from VICC is: {len(vicc_data)}\""
   ]
  },
  {
   "cell_type": "code",
   "execution_count": 38,
   "id": "1801a06c",
   "metadata": {},
   "outputs": [],
   "source": [
    "vicc_data.to_csv(\"data/genie_data/vicc_data.csv\", sep=\"\\t\", index=False)"
   ]
  },
  {
   "cell_type": "markdown",
   "id": "4588a992",
   "metadata": {},
   "source": [
    "### Standardize using GENIE translator\n",
    "The cell below attempts to standardize the 226 filtered fusions from VICC"
   ]
  },
  {
   "cell_type": "code",
   "execution_count": 39,
   "id": "5866e340",
   "metadata": {},
   "outputs": [],
   "source": [
    "vicc_fusions = await harvester.load_records(fusion_path=Path(\"data/genie_data/vicc_data.csv\"))"
   ]
  },
  {
   "cell_type": "markdown",
   "id": "a61ca650",
   "metadata": {},
   "source": [
    "## 5. UCSF\n",
    "The next cells standardizes data from the UCSF center"
   ]
  },
  {
   "cell_type": "code",
   "execution_count": 44,
   "id": "bcf4d116",
   "metadata": {},
   "outputs": [
    {
     "data": {
      "text/plain": [
       "'The number of filtered fusions from VICC is: 1466'"
      ]
     },
     "execution_count": 44,
     "metadata": {},
     "output_type": "execute_result"
    }
   ],
   "source": [
    "ucsf_data = genie_fusions[genie_fusions[\"Center\"] == \"UCSF\"]\n",
    "f\"The number of filtered fusions from VICC is: {len(ucsf_data)}\""
   ]
  },
  {
   "cell_type": "markdown",
   "id": "dfd76e33",
   "metadata": {},
   "source": [
    "Filter to only include fusions. Some non-fusion events, such as rearrangements, may not have passed the initial filters."
   ]
  },
  {
   "cell_type": "code",
   "execution_count": 45,
   "id": "30332fca",
   "metadata": {},
   "outputs": [
    {
     "data": {
      "text/plain": [
       "'The number of filtered fusions from VICC is: 1419'"
      ]
     },
     "execution_count": 45,
     "metadata": {},
     "output_type": "execute_result"
    }
   ],
   "source": [
    "ucsf_data = ucsf_data[ucsf_data[\"Event_Info\"].str.contains(\"fusion\", case=False, na=False)]\n",
    "f\"The number of filtered fusions from VICC is: {len(ucsf_data)}\""
   ]
  },
  {
   "cell_type": "code",
   "execution_count": 46,
   "id": "5f453c1d",
   "metadata": {},
   "outputs": [],
   "source": [
    "ucsf_data.to_csv(\"data/genie_data/ucsf_data.csv\", sep=\"\\t\", index=False)"
   ]
  },
  {
   "cell_type": "markdown",
   "id": "f95fd7a3",
   "metadata": {},
   "source": [
    "### Standardize using GENIE translator\n",
    "The cell below attempts to standardize the 1,419 filtered fusions from UCSF"
   ]
  },
  {
   "cell_type": "code",
   "execution_count": 47,
   "id": "34a45f7c",
   "metadata": {},
   "outputs": [],
   "source": [
    "ucsf_fusions = await harvester.load_records(fusion_path=Path(\"data/genie_data/ucsf_data.csv\"))"
   ]
  },
  {
   "cell_type": "markdown",
   "id": "8fb18fe3",
   "metadata": {},
   "source": [
    "## 6. CHOP\n",
    "The following cells attempt to standardize data from the CHOP center"
   ]
  },
  {
   "cell_type": "code",
   "execution_count": 50,
   "id": "68df0a95",
   "metadata": {},
   "outputs": [
    {
     "data": {
      "text/plain": [
       "'The number of filtered fusions from CHOP is: 454'"
      ]
     },
     "execution_count": 50,
     "metadata": {},
     "output_type": "execute_result"
    }
   ],
   "source": [
    "chop_data = genie_fusions[genie_fusions[\"Center\"] == \"CHOP\"]\n",
    "f\"The number of filtered fusions from CHOP is: {len(chop_data)}\""
   ]
  },
  {
   "cell_type": "markdown",
   "id": "5f1228d5",
   "metadata": {},
   "source": [
    "All data from CHOP describe gene fusion events, so no additional filtering is needed. We can move straight to standardization with FUSOR"
   ]
  }
 ],
 "metadata": {
  "kernelspec": {
   "display_name": "fusor",
   "language": "python",
   "name": "python3"
  },
  "language_info": {
   "codemirror_mode": {
    "name": "ipython",
    "version": 3
   },
   "file_extension": ".py",
   "mimetype": "text/x-python",
   "name": "python",
   "nbconvert_exporter": "python",
   "pygments_lexer": "ipython3",
   "version": "3.13.5"
  }
 },
 "nbformat": 4,
 "nbformat_minor": 5
}
