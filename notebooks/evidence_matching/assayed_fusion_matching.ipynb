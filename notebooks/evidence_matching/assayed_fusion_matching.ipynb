{
 "cells": [
  {
   "cell_type": "markdown",
   "id": "e22d5ad6",
   "metadata": {},
   "source": [
    "# Notebook for matching between assayed fusions"
   ]
  },
  {
   "cell_type": "code",
   "execution_count": 1,
   "id": "24d2d3f9",
   "metadata": {},
   "outputs": [],
   "source": [
    "import warnings\n",
    "from os import environ\n",
    "\n",
    "warnings.filterwarnings(\"ignore\")\n",
    "\n",
    "# These are the configurations for the UTA and SeqRepo databases. These should\n",
    "# be adjusted by the user based on the locations where these databases exist.\n",
    "environ[\"UTA_DB_URL\"] = \"postgresql://anonymous@localhost:5432/uta/uta_20241220\"\n",
    "environ[\"SEQREPO_ROOT_DIR\"] = \"/usr/local/share/seqrepo/2024-12-20\""
   ]
  },
  {
   "cell_type": "markdown",
   "id": "fd720b92",
   "metadata": {},
   "source": [
    "### Load FUSOR and Translator modules\n",
    "Run the cell below to load the FUSOR and Translator modules"
   ]
  },
  {
   "cell_type": "code",
   "execution_count": 2,
   "id": "cc0939d3",
   "metadata": {},
   "outputs": [
    {
     "name": "stdout",
     "output_type": "stream",
     "text": [
      "***Using Gene Database Endpoint: http://localhost:8000***\n"
     ]
    }
   ],
   "source": [
    "from fusor.fusor import FUSOR\n",
    "\n",
    "fusor = FUSOR()"
   ]
  },
  {
   "cell_type": "markdown",
   "id": "c09647fa",
   "metadata": {},
   "source": [
    "### Generate list of AssayedFusion objects from STAR-Fusion \n",
    "\n",
    "Run the cell below to generate a list of queried AssayedFusion objects from a file of STAR-Fusion output"
   ]
  },
  {
   "cell_type": "code",
   "execution_count": 3,
   "id": "6753c27a",
   "metadata": {},
   "outputs": [
    {
     "name": "stderr",
     "output_type": "stream",
     "text": [
      "Unable to get MANE Transcript data for gene: RN7SKP80\n",
      "Could not find a transcript for RN7SKP80 on NC_000022.11\n",
      "Unable to get MANE Transcript data for gene: RN7SKP118\n",
      "Could not find a transcript for RN7SKP118 on NC_000016.10\n",
      "Gene does not exist in UTA: AC021660.2\n",
      "Unable to get MANE Transcript data for gene: EEF1A1P13\n",
      "Could not find a transcript for EEF1A1P13 on NC_000005.10\n",
      "Gene does not exist in UTA: AC098590.1\n",
      "Gene does not exist in UTA: AC099789.1\n",
      "Unable to get MANE Transcript data for gene: USP27X-DT\n",
      "38584945 on NC_000021.9 occurs more than 150 bp outside the exon boundaries of the NM_182918.4 transcript, indicating this may not be a chimeric transcript junction and is unlikely to represent a contiguous coding sequence. Confirm that the genomic position 38584945 is being used to represent transcript junction and not DNA breakpoint.\n",
      "Unable to get MANE Transcript data for gene: LINC00158\n",
      "Gene does not exist in UTA: AP001341.1\n",
      "Gene does not exist in UTA: AC021660.2\n",
      "Gene does not exist in UTA: AC021660.2\n",
      "35720747 on NC_000001.11 occurs more than 150 bp outside the exon boundaries of the NM_022111.4 transcript, indicating this may not be a chimeric transcript junction and is unlikely to represent a contiguous coding sequence. Confirm that the genomic position 35720747 is being used to represent transcript junction and not DNA breakpoint.\n",
      "35719497 on NC_000001.11 occurs more than 150 bp outside the exon boundaries of the NM_152374.2 transcript, indicating this may not be a chimeric transcript junction and is unlikely to represent a contiguous coding sequence. Confirm that the genomic position 35719497 is being used to represent transcript junction and not DNA breakpoint.\n",
      "Gene does not exist in UTA: RF00100\n",
      "Unable to get MANE Transcript data for gene: RN7SKP76\n",
      "Could not find a transcript for RN7SKP76 on NC_000016.10\n",
      "Unable to get MANE Transcript data for gene: RN7SK\n",
      "Unable to get MANE Transcript data for gene: RN7SKP76\n",
      "Could not find a transcript for RN7SKP76 on NC_000016.10\n",
      "143950183 on NC_000008.11 occurs more than 150 bp outside the exon boundaries of the NM_201384.3 transcript, indicating this may not be a chimeric transcript junction and is unlikely to represent a contiguous coding sequence. Confirm that the genomic position 143950183 is being used to represent transcript junction and not DNA breakpoint.\n",
      "Unable to get MANE Transcript data for gene: XXYLT1-AS2\n",
      "Gene does not exist in UTA: AC091132.5\n"
     ]
    }
   ],
   "source": [
    "# Generate AssayedFusion list from STAR-Fusion file\n",
    "from pathlib import Path\n",
    "\n",
    "from cool_seq_tool.schemas import Assembly\n",
    "\n",
    "from fusor.harvester import StarFusionHarvester\n",
    "\n",
    "path = Path(\"../../tests/fixtures/star-fusion.fusion_predictions.abridged.tsv\")\n",
    "harvester = StarFusionHarvester(fusor=fusor, assembly=Assembly.GRCH38.value)\n",
    "fusions_list = await harvester.load_records(path)\n",
    "\n",
    "assayed_fusion_star_fusion = [fusions_list[1]] # Use EML4::ALK fusion as querying example"
   ]
  },
  {
   "cell_type": "markdown",
   "id": "218b3915",
   "metadata": {},
   "source": [
    "### Generate list of comparator AssayedFusion objects\n",
    "\n",
    "Run the cell below to generate a list of comparator AssayedFusion objects"
   ]
  },
  {
   "cell_type": "code",
   "execution_count": 4,
   "id": "012ff38b",
   "metadata": {},
   "outputs": [],
   "source": [
    "from fusor.models import AssayedFusion\n",
    "\n",
    "A = AssayedFusion(structure=[fusor.gene_element(\"EML4\")[0], fusor.gene_element(\"ALK\")[0]])\n",
    "B = AssayedFusion(structure=[fusor.gene_element(\"EML4\")[0], fusor.gene_element(\"BRAF\")[0]])\n",
    "C = AssayedFusion(structure=[fusor.gene_element(\"TPM3\")[0], fusor.gene_element(\"ALK\")[0]])\n",
    "D = assayed_fusion_star_fusion[0]\n",
    "E = AssayedFusion(structure=[fusor.gene_element(\"EML4\")[0], fusor.unknown_gene_element()])\n",
    "F = AssayedFusion(structure=[fusor.unknown_gene_element(), fusor.gene_element(\"ALK\")[0]])\n",
    "comparator_set = [A, B, C, D, E, F]"
   ]
  },
  {
   "cell_type": "markdown",
   "id": "3c554311",
   "metadata": {},
   "source": [
    "### Generated AssayedAssayedMatching object\n",
    "\n",
    "Run the cell below to generate an `AssayedAssayedMatching` object"
   ]
  },
  {
   "cell_type": "code",
   "execution_count": 5,
   "id": "ce95216a",
   "metadata": {},
   "outputs": [],
   "source": [
    "from fusor.fusion_matching import AssayedAssayedMatching\n",
    "\n",
    "aam = AssayedAssayedMatching(assayed_fusions_query=assayed_fusion_star_fusion,\n",
    "                             assayed_fusions_comparator=comparator_set)"
   ]
  },
  {
   "cell_type": "markdown",
   "id": "ccc8655c",
   "metadata": {},
   "source": [
    "### Perform gene symbol matching\n",
    "\n",
    "Perform matching where both gene symbol partners in the comparator set match\n",
    "those in the queried fusion (\"EML4\", \"ALK\"). We would expect fusions A and D\n",
    "to be returned."
   ]
  },
  {
   "cell_type": "code",
   "execution_count": 6,
   "id": "ccf33735",
   "metadata": {},
   "outputs": [
    {
     "data": {
      "text/plain": [
       "[[AssayedFusion(type=<FUSORTypes.ASSAYED_FUSION: 'AssayedFusion'>, regulatoryElement=None, structure=[GeneElement(type=<FUSORTypes.GENE_ELEMENT: 'GeneElement'>, gene=MappableConcept(id=None, extensions=None, conceptType='Gene', name='EML4', primaryCoding=Coding(id='hgnc:1316', extensions=None, name=None, system='https://www.genenames.org/data/gene-symbol-report/#!/hgnc_id/', systemVersion=None, code=code(root='HGNC:1316'), iris=None), mappings=None)), GeneElement(type=<FUSORTypes.GENE_ELEMENT: 'GeneElement'>, gene=MappableConcept(id=None, extensions=None, conceptType='Gene', name='ALK', primaryCoding=Coding(id='hgnc:427', extensions=None, name=None, system='https://www.genenames.org/data/gene-symbol-report/#!/hgnc_id/', systemVersion=None, code=code(root='HGNC:427'), iris=None), mappings=None))], readingFramePreserved=None, viccNomenclature=None, causativeEvent=None, assay=None, contig=None, readData=None),\n",
       "  AssayedFusion(type=<FUSORTypes.ASSAYED_FUSION: 'AssayedFusion'>, regulatoryElement=None, structure=[TranscriptSegmentElement(type=<FUSORTypes.TRANSCRIPT_SEGMENT_ELEMENT: 'TranscriptSegmentElement'>, transcript='refseq:NM_019063.5', strand=<Strand.POSITIVE: 1>, exonStart=None, exonStartOffset=None, exonEnd=13, exonEndOffset=0, gene=MappableConcept(id=None, extensions=None, conceptType='Gene', name='EML4', primaryCoding=Coding(id='hgnc:1316', extensions=None, name=None, system='https://www.genenames.org/data/gene-symbol-report/#!/hgnc_id/', systemVersion=None, code=code(root='HGNC:1316'), iris=None), mappings=None), elementGenomicStart=None, elementGenomicEnd=SequenceLocation(id='ga4gh:SL.PQzV-kfeCQ4MBmxD5mSHqZmId3I_f-Ib', type='SequenceLocation', name=None, description=None, aliases=None, extensions=None, digest='PQzV-kfeCQ4MBmxD5mSHqZmId3I_f-Ib', sequenceReference=SequenceReference(id='refseq:NC_000002.12', type='SequenceReference', name=None, description=None, aliases=None, extensions=None, refgetAccession='SQ.pnAqCRBrTsUoBghSD1yp_jXWSmlbdh4g', residueAlphabet=None, circular=None, sequence=None, moleculeType=None), start=None, end=42295516, sequence=None), coverage=None, anchoredReads=None), TranscriptSegmentElement(type=<FUSORTypes.TRANSCRIPT_SEGMENT_ELEMENT: 'TranscriptSegmentElement'>, transcript='refseq:NM_004304.5', strand=<Strand.NEGATIVE: -1>, exonStart=20, exonStartOffset=0, exonEnd=None, exonEndOffset=None, gene=MappableConcept(id=None, extensions=None, conceptType='Gene', name='ALK', primaryCoding=Coding(id='hgnc:427', extensions=None, name=None, system='https://www.genenames.org/data/gene-symbol-report/#!/hgnc_id/', systemVersion=None, code=code(root='HGNC:427'), iris=None), mappings=None), elementGenomicStart=SequenceLocation(id='ga4gh:SL.Eu_igVd9zOahn3tFN-pyxtphUmrSlRAh', type='SequenceLocation', name=None, description=None, aliases=None, extensions=None, digest='Eu_igVd9zOahn3tFN-pyxtphUmrSlRAh', sequenceReference=SequenceReference(id='refseq:NC_000002.12', type='SequenceReference', name=None, description=None, aliases=None, extensions=None, refgetAccession='SQ.pnAqCRBrTsUoBghSD1yp_jXWSmlbdh4g', residueAlphabet=None, circular=None, sequence=None, moleculeType=None), start=None, end=29223528, sequence=None), elementGenomicEnd=None, coverage=None, anchoredReads=None)], readingFramePreserved=None, viccNomenclature='NM_019063.5(EML4):e.13::NM_004304.5(ALK):e.20', causativeEvent=None, assay=None, contig=None, readData=ReadData(type=<FUSORTypes.READ_DATA: 'ReadData'>, split=SplitReads(type=<FUSORTypes.SPLIT_READS: 'SplitReads'>, splitReads=219), spanning=SpanningReads(type=<FUSORTypes.SPANNING_READS: 'SpanningReads'>, spanningReads=39)))]]"
      ]
     },
     "execution_count": 6,
     "metadata": {},
     "output_type": "execute_result"
    }
   ],
   "source": [
    "await aam.match_fusion(gene_partner_match=True)"
   ]
  },
  {
   "cell_type": "markdown",
   "id": "b8593f7e",
   "metadata": {},
   "source": [
    "### Perform gene symbol matching on 5' partner\n",
    "\n",
    "Perform matching where the 5' partner in the query matches either partner in the\n",
    "comparator. We would expect fusions A, B, D, and E to be returned."
   ]
  },
  {
   "cell_type": "code",
   "execution_count": 7,
   "id": "490357f4",
   "metadata": {},
   "outputs": [
    {
     "data": {
      "text/plain": [
       "[[AssayedFusion(type=<FUSORTypes.ASSAYED_FUSION: 'AssayedFusion'>, regulatoryElement=None, structure=[GeneElement(type=<FUSORTypes.GENE_ELEMENT: 'GeneElement'>, gene=MappableConcept(id=None, extensions=None, conceptType='Gene', name='EML4', primaryCoding=Coding(id='hgnc:1316', extensions=None, name=None, system='https://www.genenames.org/data/gene-symbol-report/#!/hgnc_id/', systemVersion=None, code=code(root='HGNC:1316'), iris=None), mappings=None)), GeneElement(type=<FUSORTypes.GENE_ELEMENT: 'GeneElement'>, gene=MappableConcept(id=None, extensions=None, conceptType='Gene', name='ALK', primaryCoding=Coding(id='hgnc:427', extensions=None, name=None, system='https://www.genenames.org/data/gene-symbol-report/#!/hgnc_id/', systemVersion=None, code=code(root='HGNC:427'), iris=None), mappings=None))], readingFramePreserved=None, viccNomenclature=None, causativeEvent=None, assay=None, contig=None, readData=None),\n",
       "  AssayedFusion(type=<FUSORTypes.ASSAYED_FUSION: 'AssayedFusion'>, regulatoryElement=None, structure=[GeneElement(type=<FUSORTypes.GENE_ELEMENT: 'GeneElement'>, gene=MappableConcept(id=None, extensions=None, conceptType='Gene', name='EML4', primaryCoding=Coding(id='hgnc:1316', extensions=None, name=None, system='https://www.genenames.org/data/gene-symbol-report/#!/hgnc_id/', systemVersion=None, code=code(root='HGNC:1316'), iris=None), mappings=None)), GeneElement(type=<FUSORTypes.GENE_ELEMENT: 'GeneElement'>, gene=MappableConcept(id=None, extensions=None, conceptType='Gene', name='BRAF', primaryCoding=Coding(id='hgnc:1097', extensions=None, name=None, system='https://www.genenames.org/data/gene-symbol-report/#!/hgnc_id/', systemVersion=None, code=code(root='HGNC:1097'), iris=None), mappings=None))], readingFramePreserved=None, viccNomenclature=None, causativeEvent=None, assay=None, contig=None, readData=None),\n",
       "  AssayedFusion(type=<FUSORTypes.ASSAYED_FUSION: 'AssayedFusion'>, regulatoryElement=None, structure=[TranscriptSegmentElement(type=<FUSORTypes.TRANSCRIPT_SEGMENT_ELEMENT: 'TranscriptSegmentElement'>, transcript='refseq:NM_019063.5', strand=<Strand.POSITIVE: 1>, exonStart=None, exonStartOffset=None, exonEnd=13, exonEndOffset=0, gene=MappableConcept(id=None, extensions=None, conceptType='Gene', name='EML4', primaryCoding=Coding(id='hgnc:1316', extensions=None, name=None, system='https://www.genenames.org/data/gene-symbol-report/#!/hgnc_id/', systemVersion=None, code=code(root='HGNC:1316'), iris=None), mappings=None), elementGenomicStart=None, elementGenomicEnd=SequenceLocation(id='ga4gh:SL.PQzV-kfeCQ4MBmxD5mSHqZmId3I_f-Ib', type='SequenceLocation', name=None, description=None, aliases=None, extensions=None, digest='PQzV-kfeCQ4MBmxD5mSHqZmId3I_f-Ib', sequenceReference=SequenceReference(id='refseq:NC_000002.12', type='SequenceReference', name=None, description=None, aliases=None, extensions=None, refgetAccession='SQ.pnAqCRBrTsUoBghSD1yp_jXWSmlbdh4g', residueAlphabet=None, circular=None, sequence=None, moleculeType=None), start=None, end=42295516, sequence=None), coverage=None, anchoredReads=None), TranscriptSegmentElement(type=<FUSORTypes.TRANSCRIPT_SEGMENT_ELEMENT: 'TranscriptSegmentElement'>, transcript='refseq:NM_004304.5', strand=<Strand.NEGATIVE: -1>, exonStart=20, exonStartOffset=0, exonEnd=None, exonEndOffset=None, gene=MappableConcept(id=None, extensions=None, conceptType='Gene', name='ALK', primaryCoding=Coding(id='hgnc:427', extensions=None, name=None, system='https://www.genenames.org/data/gene-symbol-report/#!/hgnc_id/', systemVersion=None, code=code(root='HGNC:427'), iris=None), mappings=None), elementGenomicStart=SequenceLocation(id='ga4gh:SL.Eu_igVd9zOahn3tFN-pyxtphUmrSlRAh', type='SequenceLocation', name=None, description=None, aliases=None, extensions=None, digest='Eu_igVd9zOahn3tFN-pyxtphUmrSlRAh', sequenceReference=SequenceReference(id='refseq:NC_000002.12', type='SequenceReference', name=None, description=None, aliases=None, extensions=None, refgetAccession='SQ.pnAqCRBrTsUoBghSD1yp_jXWSmlbdh4g', residueAlphabet=None, circular=None, sequence=None, moleculeType=None), start=None, end=29223528, sequence=None), elementGenomicEnd=None, coverage=None, anchoredReads=None)], readingFramePreserved=None, viccNomenclature='NM_019063.5(EML4):e.13::NM_004304.5(ALK):e.20', causativeEvent=None, assay=None, contig=None, readData=ReadData(type=<FUSORTypes.READ_DATA: 'ReadData'>, split=SplitReads(type=<FUSORTypes.SPLIT_READS: 'SplitReads'>, splitReads=219), spanning=SpanningReads(type=<FUSORTypes.SPANNING_READS: 'SpanningReads'>, spanningReads=39))),\n",
       "  AssayedFusion(type=<FUSORTypes.ASSAYED_FUSION: 'AssayedFusion'>, regulatoryElement=None, structure=[GeneElement(type=<FUSORTypes.GENE_ELEMENT: 'GeneElement'>, gene=MappableConcept(id=None, extensions=None, conceptType='Gene', name='EML4', primaryCoding=Coding(id='hgnc:1316', extensions=None, name=None, system='https://www.genenames.org/data/gene-symbol-report/#!/hgnc_id/', systemVersion=None, code=code(root='HGNC:1316'), iris=None), mappings=None)), UnknownGeneElement(type=<FUSORTypes.UNKNOWN_GENE_ELEMENT: 'UnknownGeneElement'>)], readingFramePreserved=None, viccNomenclature=None, causativeEvent=None, assay=None, contig=None, readData=None)]]"
      ]
     },
     "execution_count": 7,
     "metadata": {},
     "output_type": "execute_result"
    }
   ],
   "source": [
    "await aam.match_fusion(five_prime_match=True)"
   ]
  },
  {
   "cell_type": "markdown",
   "id": "9804a84a",
   "metadata": {},
   "source": [
    "### Perform gene symbol matching on 3' partner\n",
    "\n",
    "Perform matching where the 3' partner in the query matches either partner in the\n",
    "comparator. We would expect fusions A, B, D, and F to be returned."
   ]
  },
  {
   "cell_type": "code",
   "execution_count": 8,
   "id": "90d1d5ff",
   "metadata": {},
   "outputs": [
    {
     "data": {
      "text/plain": [
       "[[AssayedFusion(type=<FUSORTypes.ASSAYED_FUSION: 'AssayedFusion'>, regulatoryElement=None, structure=[GeneElement(type=<FUSORTypes.GENE_ELEMENT: 'GeneElement'>, gene=MappableConcept(id=None, extensions=None, conceptType='Gene', name='EML4', primaryCoding=Coding(id='hgnc:1316', extensions=None, name=None, system='https://www.genenames.org/data/gene-symbol-report/#!/hgnc_id/', systemVersion=None, code=code(root='HGNC:1316'), iris=None), mappings=None)), GeneElement(type=<FUSORTypes.GENE_ELEMENT: 'GeneElement'>, gene=MappableConcept(id=None, extensions=None, conceptType='Gene', name='ALK', primaryCoding=Coding(id='hgnc:427', extensions=None, name=None, system='https://www.genenames.org/data/gene-symbol-report/#!/hgnc_id/', systemVersion=None, code=code(root='HGNC:427'), iris=None), mappings=None))], readingFramePreserved=None, viccNomenclature=None, causativeEvent=None, assay=None, contig=None, readData=None),\n",
       "  AssayedFusion(type=<FUSORTypes.ASSAYED_FUSION: 'AssayedFusion'>, regulatoryElement=None, structure=[GeneElement(type=<FUSORTypes.GENE_ELEMENT: 'GeneElement'>, gene=MappableConcept(id=None, extensions=None, conceptType='Gene', name='TPM3', primaryCoding=Coding(id='hgnc:12012', extensions=None, name=None, system='https://www.genenames.org/data/gene-symbol-report/#!/hgnc_id/', systemVersion=None, code=code(root='HGNC:12012'), iris=None), mappings=None)), GeneElement(type=<FUSORTypes.GENE_ELEMENT: 'GeneElement'>, gene=MappableConcept(id=None, extensions=None, conceptType='Gene', name='ALK', primaryCoding=Coding(id='hgnc:427', extensions=None, name=None, system='https://www.genenames.org/data/gene-symbol-report/#!/hgnc_id/', systemVersion=None, code=code(root='HGNC:427'), iris=None), mappings=None))], readingFramePreserved=None, viccNomenclature=None, causativeEvent=None, assay=None, contig=None, readData=None),\n",
       "  AssayedFusion(type=<FUSORTypes.ASSAYED_FUSION: 'AssayedFusion'>, regulatoryElement=None, structure=[TranscriptSegmentElement(type=<FUSORTypes.TRANSCRIPT_SEGMENT_ELEMENT: 'TranscriptSegmentElement'>, transcript='refseq:NM_019063.5', strand=<Strand.POSITIVE: 1>, exonStart=None, exonStartOffset=None, exonEnd=13, exonEndOffset=0, gene=MappableConcept(id=None, extensions=None, conceptType='Gene', name='EML4', primaryCoding=Coding(id='hgnc:1316', extensions=None, name=None, system='https://www.genenames.org/data/gene-symbol-report/#!/hgnc_id/', systemVersion=None, code=code(root='HGNC:1316'), iris=None), mappings=None), elementGenomicStart=None, elementGenomicEnd=SequenceLocation(id='ga4gh:SL.PQzV-kfeCQ4MBmxD5mSHqZmId3I_f-Ib', type='SequenceLocation', name=None, description=None, aliases=None, extensions=None, digest='PQzV-kfeCQ4MBmxD5mSHqZmId3I_f-Ib', sequenceReference=SequenceReference(id='refseq:NC_000002.12', type='SequenceReference', name=None, description=None, aliases=None, extensions=None, refgetAccession='SQ.pnAqCRBrTsUoBghSD1yp_jXWSmlbdh4g', residueAlphabet=None, circular=None, sequence=None, moleculeType=None), start=None, end=42295516, sequence=None), coverage=None, anchoredReads=None), TranscriptSegmentElement(type=<FUSORTypes.TRANSCRIPT_SEGMENT_ELEMENT: 'TranscriptSegmentElement'>, transcript='refseq:NM_004304.5', strand=<Strand.NEGATIVE: -1>, exonStart=20, exonStartOffset=0, exonEnd=None, exonEndOffset=None, gene=MappableConcept(id=None, extensions=None, conceptType='Gene', name='ALK', primaryCoding=Coding(id='hgnc:427', extensions=None, name=None, system='https://www.genenames.org/data/gene-symbol-report/#!/hgnc_id/', systemVersion=None, code=code(root='HGNC:427'), iris=None), mappings=None), elementGenomicStart=SequenceLocation(id='ga4gh:SL.Eu_igVd9zOahn3tFN-pyxtphUmrSlRAh', type='SequenceLocation', name=None, description=None, aliases=None, extensions=None, digest='Eu_igVd9zOahn3tFN-pyxtphUmrSlRAh', sequenceReference=SequenceReference(id='refseq:NC_000002.12', type='SequenceReference', name=None, description=None, aliases=None, extensions=None, refgetAccession='SQ.pnAqCRBrTsUoBghSD1yp_jXWSmlbdh4g', residueAlphabet=None, circular=None, sequence=None, moleculeType=None), start=None, end=29223528, sequence=None), elementGenomicEnd=None, coverage=None, anchoredReads=None)], readingFramePreserved=None, viccNomenclature='NM_019063.5(EML4):e.13::NM_004304.5(ALK):e.20', causativeEvent=None, assay=None, contig=None, readData=ReadData(type=<FUSORTypes.READ_DATA: 'ReadData'>, split=SplitReads(type=<FUSORTypes.SPLIT_READS: 'SplitReads'>, splitReads=219), spanning=SpanningReads(type=<FUSORTypes.SPANNING_READS: 'SpanningReads'>, spanningReads=39))),\n",
       "  AssayedFusion(type=<FUSORTypes.ASSAYED_FUSION: 'AssayedFusion'>, regulatoryElement=None, structure=[UnknownGeneElement(type=<FUSORTypes.UNKNOWN_GENE_ELEMENT: 'UnknownGeneElement'>), GeneElement(type=<FUSORTypes.GENE_ELEMENT: 'GeneElement'>, gene=MappableConcept(id=None, extensions=None, conceptType='Gene', name='ALK', primaryCoding=Coding(id='hgnc:427', extensions=None, name=None, system='https://www.genenames.org/data/gene-symbol-report/#!/hgnc_id/', systemVersion=None, code=code(root='HGNC:427'), iris=None), mappings=None))], readingFramePreserved=None, viccNomenclature=None, causativeEvent=None, assay=None, contig=None, readData=None)]]"
      ]
     },
     "execution_count": 8,
     "metadata": {},
     "output_type": "execute_result"
    }
   ],
   "source": [
    "await aam.match_fusion(three_prime_match=True)"
   ]
  },
  {
   "cell_type": "markdown",
   "id": "f5f6dc7e",
   "metadata": {},
   "source": [
    "### Perform deep matching\n",
    "\n",
    "Perform deep matching for the queried fusion against the comparator set.\n",
    "This looks at the transcript accession, exon number, exon offset, and genomic\n",
    "breakpoint.\n",
    "\n",
    "In this case, we would expect D to return the highest score as it is exactly the\n",
    "fusion from the STAR-Fusion output. We would then expect A as it has the same\n",
    "partners, followed by fusions E and F as one partner is unknown for each \n",
    "fusion.\n"
   ]
  },
  {
   "cell_type": "code",
   "execution_count": 9,
   "id": "3bd72cdb",
   "metadata": {},
   "outputs": [
    {
     "data": {
      "text/plain": [
       "[[(AssayedFusion(type=<FUSORTypes.ASSAYED_FUSION: 'AssayedFusion'>, regulatoryElement=None, structure=[TranscriptSegmentElement(type=<FUSORTypes.TRANSCRIPT_SEGMENT_ELEMENT: 'TranscriptSegmentElement'>, transcript='refseq:NM_019063.5', strand=<Strand.POSITIVE: 1>, exonStart=None, exonStartOffset=None, exonEnd=13, exonEndOffset=0, gene=MappableConcept(id=None, extensions=None, conceptType='Gene', name='EML4', primaryCoding=Coding(id='hgnc:1316', extensions=None, name=None, system='https://www.genenames.org/data/gene-symbol-report/#!/hgnc_id/', systemVersion=None, code=code(root='HGNC:1316'), iris=None), mappings=None), elementGenomicStart=None, elementGenomicEnd=SequenceLocation(id='ga4gh:SL.PQzV-kfeCQ4MBmxD5mSHqZmId3I_f-Ib', type='SequenceLocation', name=None, description=None, aliases=None, extensions=None, digest='PQzV-kfeCQ4MBmxD5mSHqZmId3I_f-Ib', sequenceReference=SequenceReference(id='refseq:NC_000002.12', type='SequenceReference', name=None, description=None, aliases=None, extensions=None, refgetAccession='SQ.pnAqCRBrTsUoBghSD1yp_jXWSmlbdh4g', residueAlphabet=None, circular=None, sequence=None, moleculeType=None), start=None, end=42295516, sequence=None), coverage=None, anchoredReads=None), TranscriptSegmentElement(type=<FUSORTypes.TRANSCRIPT_SEGMENT_ELEMENT: 'TranscriptSegmentElement'>, transcript='refseq:NM_004304.5', strand=<Strand.NEGATIVE: -1>, exonStart=20, exonStartOffset=0, exonEnd=None, exonEndOffset=None, gene=MappableConcept(id=None, extensions=None, conceptType='Gene', name='ALK', primaryCoding=Coding(id='hgnc:427', extensions=None, name=None, system='https://www.genenames.org/data/gene-symbol-report/#!/hgnc_id/', systemVersion=None, code=code(root='HGNC:427'), iris=None), mappings=None), elementGenomicStart=SequenceLocation(id='ga4gh:SL.Eu_igVd9zOahn3tFN-pyxtphUmrSlRAh', type='SequenceLocation', name=None, description=None, aliases=None, extensions=None, digest='Eu_igVd9zOahn3tFN-pyxtphUmrSlRAh', sequenceReference=SequenceReference(id='refseq:NC_000002.12', type='SequenceReference', name=None, description=None, aliases=None, extensions=None, refgetAccession='SQ.pnAqCRBrTsUoBghSD1yp_jXWSmlbdh4g', residueAlphabet=None, circular=None, sequence=None, moleculeType=None), start=None, end=29223528, sequence=None), elementGenomicEnd=None, coverage=None, anchoredReads=None)], readingFramePreserved=None, viccNomenclature='NM_019063.5(EML4):e.13::NM_004304.5(ALK):e.20', causativeEvent=None, assay=None, contig=None, readData=ReadData(type=<FUSORTypes.READ_DATA: 'ReadData'>, split=SplitReads(type=<FUSORTypes.SPLIT_READS: 'SplitReads'>, splitReads=219), spanning=SpanningReads(type=<FUSORTypes.SPANNING_READS: 'SpanningReads'>, spanningReads=39))),\n",
       "   10),\n",
       "  (AssayedFusion(type=<FUSORTypes.ASSAYED_FUSION: 'AssayedFusion'>, regulatoryElement=None, structure=[GeneElement(type=<FUSORTypes.GENE_ELEMENT: 'GeneElement'>, gene=MappableConcept(id=None, extensions=None, conceptType='Gene', name='EML4', primaryCoding=Coding(id='hgnc:1316', extensions=None, name=None, system='https://www.genenames.org/data/gene-symbol-report/#!/hgnc_id/', systemVersion=None, code=code(root='HGNC:1316'), iris=None), mappings=None)), GeneElement(type=<FUSORTypes.GENE_ELEMENT: 'GeneElement'>, gene=MappableConcept(id=None, extensions=None, conceptType='Gene', name='ALK', primaryCoding=Coding(id='hgnc:427', extensions=None, name=None, system='https://www.genenames.org/data/gene-symbol-report/#!/hgnc_id/', systemVersion=None, code=code(root='HGNC:427'), iris=None), mappings=None))], readingFramePreserved=None, viccNomenclature=None, causativeEvent=None, assay=None, contig=None, readData=None),\n",
       "   2),\n",
       "  (AssayedFusion(type=<FUSORTypes.ASSAYED_FUSION: 'AssayedFusion'>, regulatoryElement=None, structure=[GeneElement(type=<FUSORTypes.GENE_ELEMENT: 'GeneElement'>, gene=MappableConcept(id=None, extensions=None, conceptType='Gene', name='EML4', primaryCoding=Coding(id='hgnc:1316', extensions=None, name=None, system='https://www.genenames.org/data/gene-symbol-report/#!/hgnc_id/', systemVersion=None, code=code(root='HGNC:1316'), iris=None), mappings=None)), UnknownGeneElement(type=<FUSORTypes.UNKNOWN_GENE_ELEMENT: 'UnknownGeneElement'>)], readingFramePreserved=None, viccNomenclature=None, causativeEvent=None, assay=None, contig=None, readData=None),\n",
       "   1),\n",
       "  (AssayedFusion(type=<FUSORTypes.ASSAYED_FUSION: 'AssayedFusion'>, regulatoryElement=None, structure=[UnknownGeneElement(type=<FUSORTypes.UNKNOWN_GENE_ELEMENT: 'UnknownGeneElement'>), GeneElement(type=<FUSORTypes.GENE_ELEMENT: 'GeneElement'>, gene=MappableConcept(id=None, extensions=None, conceptType='Gene', name='ALK', primaryCoding=Coding(id='hgnc:427', extensions=None, name=None, system='https://www.genenames.org/data/gene-symbol-report/#!/hgnc_id/', systemVersion=None, code=code(root='HGNC:427'), iris=None), mappings=None))], readingFramePreserved=None, viccNomenclature=None, causativeEvent=None, assay=None, contig=None, readData=None),\n",
       "   1)]]"
      ]
     },
     "execution_count": 9,
     "metadata": {},
     "output_type": "execute_result"
    }
   ],
   "source": [
    "await aam.match_fusion()"
   ]
  }
 ],
 "metadata": {
  "kernelspec": {
   "display_name": "fusor",
   "language": "python",
   "name": "python3"
  },
  "language_info": {
   "codemirror_mode": {
    "name": "ipython",
    "version": 3
   },
   "file_extension": ".py",
   "mimetype": "text/x-python",
   "name": "python",
   "nbconvert_exporter": "python",
   "pygments_lexer": "ipython3",
   "version": "3.13.5"
  }
 },
 "nbformat": 4,
 "nbformat_minor": 5
}
